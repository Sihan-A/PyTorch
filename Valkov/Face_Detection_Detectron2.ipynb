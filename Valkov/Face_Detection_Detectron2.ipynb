{
  "nbformat": 4,
  "nbformat_minor": 0,
  "metadata": {
    "colab": {
      "name": "Untitled12.ipynb",
      "provenance": [],
      "authorship_tag": "ABX9TyPy28xd7+mBTv49lcoTZNnK",
      "include_colab_link": true
    },
    "kernelspec": {
      "name": "python3",
      "display_name": "Python 3"
    },
    "language_info": {
      "name": "python"
    },
    "accelerator": "GPU"
  },
  "cells": [
    {
      "cell_type": "markdown",
      "metadata": {
        "id": "view-in-github",
        "colab_type": "text"
      },
      "source": [
        "<a href=\"https://colab.research.google.com/github/Sihan-A/PyTorch/blob/main/Valkov/Face_Detection_Detectron2.ipynb\" target=\"_parent\"><img src=\"https://colab.research.google.com/assets/colab-badge.svg\" alt=\"Open In Colab\"/></a>"
      ]
    },
    {
      "cell_type": "markdown",
      "metadata": {
        "id": "XVGrUgNlEKnN"
      },
      "source": [
        "## Detectron 2"
      ]
    },
    {
      "cell_type": "code",
      "metadata": {
        "id": "AXdf5UiBD7ad",
        "outputId": "d4d55775-b5fe-4019-d1fe-e157e35faa69",
        "colab": {
          "base_uri": "https://localhost:8080/"
        }
      },
      "source": [
        "!nvidia-smi"
      ],
      "execution_count": 1,
      "outputs": [
        {
          "output_type": "stream",
          "name": "stdout",
          "text": [
            "Fri Sep 24 04:37:30 2021       \n",
            "+-----------------------------------------------------------------------------+\n",
            "| NVIDIA-SMI 470.63.01    Driver Version: 460.32.03    CUDA Version: 11.2     |\n",
            "|-------------------------------+----------------------+----------------------+\n",
            "| GPU  Name        Persistence-M| Bus-Id        Disp.A | Volatile Uncorr. ECC |\n",
            "| Fan  Temp  Perf  Pwr:Usage/Cap|         Memory-Usage | GPU-Util  Compute M. |\n",
            "|                               |                      |               MIG M. |\n",
            "|===============================+======================+======================|\n",
            "|   0  Tesla T4            Off  | 00000000:00:04.0 Off |                    0 |\n",
            "| N/A   41C    P8     9W /  70W |      0MiB / 15109MiB |      0%      Default |\n",
            "|                               |                      |                  N/A |\n",
            "+-------------------------------+----------------------+----------------------+\n",
            "                                                                               \n",
            "+-----------------------------------------------------------------------------+\n",
            "| Processes:                                                                  |\n",
            "|  GPU   GI   CI        PID   Type   Process name                  GPU Memory |\n",
            "|        ID   ID                                                   Usage      |\n",
            "|=============================================================================|\n",
            "|  No running processes found                                                 |\n",
            "+-----------------------------------------------------------------------------+\n"
          ]
        }
      ]
    },
    {
      "cell_type": "code",
      "metadata": {
        "id": "7bQpZ5bjF3m4",
        "outputId": "855bb8d4-0d96-4422-9c58-374e2d8709be",
        "colab": {
          "base_uri": "https://localhost:8080/"
        }
      },
      "source": [
        "!pip install -q cython pyyaml==5.1\n",
        "!pip install -q -U 'git+https://github.com/cocodataset/cocoapi.git#subdirectory=PythonAPI'"
      ],
      "execution_count": 2,
      "outputs": [
        {
          "output_type": "stream",
          "name": "stdout",
          "text": [
            "\u001b[?25l\r\u001b[K     |█▏                              | 10 kB 33.8 MB/s eta 0:00:01\r\u001b[K     |██▍                             | 20 kB 36.4 MB/s eta 0:00:01\r\u001b[K     |███▋                            | 30 kB 21.2 MB/s eta 0:00:01\r\u001b[K     |████▉                           | 40 kB 17.4 MB/s eta 0:00:01\r\u001b[K     |██████                          | 51 kB 10.2 MB/s eta 0:00:01\r\u001b[K     |███████▏                        | 61 kB 10.3 MB/s eta 0:00:01\r\u001b[K     |████████▍                       | 71 kB 10.0 MB/s eta 0:00:01\r\u001b[K     |█████████▋                      | 81 kB 11.1 MB/s eta 0:00:01\r\u001b[K     |██████████▊                     | 92 kB 8.7 MB/s eta 0:00:01\r\u001b[K     |████████████                    | 102 kB 9.4 MB/s eta 0:00:01\r\u001b[K     |█████████████▏                  | 112 kB 9.4 MB/s eta 0:00:01\r\u001b[K     |██████████████▍                 | 122 kB 9.4 MB/s eta 0:00:01\r\u001b[K     |███████████████▌                | 133 kB 9.4 MB/s eta 0:00:01\r\u001b[K     |████████████████▊               | 143 kB 9.4 MB/s eta 0:00:01\r\u001b[K     |██████████████████              | 153 kB 9.4 MB/s eta 0:00:01\r\u001b[K     |███████████████████▏            | 163 kB 9.4 MB/s eta 0:00:01\r\u001b[K     |████████████████████▎           | 174 kB 9.4 MB/s eta 0:00:01\r\u001b[K     |█████████████████████▌          | 184 kB 9.4 MB/s eta 0:00:01\r\u001b[K     |██████████████████████▊         | 194 kB 9.4 MB/s eta 0:00:01\r\u001b[K     |████████████████████████        | 204 kB 9.4 MB/s eta 0:00:01\r\u001b[K     |█████████████████████████       | 215 kB 9.4 MB/s eta 0:00:01\r\u001b[K     |██████████████████████████▎     | 225 kB 9.4 MB/s eta 0:00:01\r\u001b[K     |███████████████████████████▌    | 235 kB 9.4 MB/s eta 0:00:01\r\u001b[K     |████████████████████████████▊   | 245 kB 9.4 MB/s eta 0:00:01\r\u001b[K     |█████████████████████████████▉  | 256 kB 9.4 MB/s eta 0:00:01\r\u001b[K     |███████████████████████████████ | 266 kB 9.4 MB/s eta 0:00:01\r\u001b[K     |████████████████████████████████| 274 kB 9.4 MB/s \n",
            "\u001b[?25h  Building wheel for pyyaml (setup.py) ... \u001b[?25l\u001b[?25hdone\n",
            "  Building wheel for pycocotools (setup.py) ... \u001b[?25l\u001b[?25hdone\n"
          ]
        }
      ]
    },
    {
      "cell_type": "code",
      "metadata": {
        "id": "suzVcydiGDKM",
        "outputId": "47df03e1-a8f8-4f57-c267-eb514cd3901a",
        "colab": {
          "base_uri": "https://localhost:8080/"
        }
      },
      "source": [
        "!git clone https://github.com/facebookresearch/detectron2 detectron2_repo\n",
        "!pip install -q -e detectron2_repo"
      ],
      "execution_count": 3,
      "outputs": [
        {
          "output_type": "stream",
          "name": "stdout",
          "text": [
            "Cloning into 'detectron2_repo'...\n",
            "remote: Enumerating objects: 13082, done.\u001b[K\n",
            "remote: Counting objects: 100% (583/583), done.\u001b[K\n",
            "remote: Compressing objects: 100% (290/290), done.\u001b[K\n",
            "remote: Total 13082 (delta 335), reused 470 (delta 289), pack-reused 12499\u001b[K\n",
            "Receiving objects: 100% (13082/13082), 5.61 MiB | 12.15 MiB/s, done.\n",
            "Resolving deltas: 100% (9283/9283), done.\n",
            "\u001b[K     |████████████████████████████████| 49 kB 6.5 MB/s \n",
            "\u001b[K     |████████████████████████████████| 74 kB 3.9 MB/s \n",
            "\u001b[K     |████████████████████████████████| 145 kB 70.7 MB/s \n",
            "\u001b[K     |████████████████████████████████| 130 kB 66.0 MB/s \n",
            "\u001b[K     |████████████████████████████████| 743 kB 59.1 MB/s \n",
            "\u001b[K     |████████████████████████████████| 745 kB 51.1 MB/s \n",
            "\u001b[K     |████████████████████████████████| 112 kB 72.1 MB/s \n",
            "\u001b[?25h  Building wheel for fvcore (setup.py) ... \u001b[?25l\u001b[?25hdone\n",
            "  Building wheel for antlr4-python3-runtime (setup.py) ... \u001b[?25l\u001b[?25hdone\n",
            "  Building wheel for pycocotools (setup.py) ... \u001b[?25l\u001b[?25hdone\n"
          ]
        }
      ]
    },
    {
      "cell_type": "code",
      "metadata": {
        "id": "uFGcy8sOGDH2"
      },
      "source": [
        "!pip install -q -U watermark"
      ],
      "execution_count": 1,
      "outputs": []
    },
    {
      "cell_type": "code",
      "metadata": {
        "id": "WDcc0tuXGDFU",
        "outputId": "123983cb-87c2-41b9-d981-5968b4defe3a",
        "colab": {
          "base_uri": "https://localhost:8080/"
        }
      },
      "source": [
        "%reload_ext watermark\n",
        "%watermark -v -p numpy,pandas,pycocotools,torch,torchvision,detectron2"
      ],
      "execution_count": 5,
      "outputs": [
        {
          "output_type": "stream",
          "name": "stdout",
          "text": [
            "Python implementation: CPython\n",
            "Python version       : 3.7.12\n",
            "IPython version      : 5.5.0\n",
            "\n",
            "numpy      : 1.19.5\n",
            "pandas     : 1.1.5\n",
            "pycocotools: 2.0.2\n",
            "torch      : 1.9.0+cu102\n",
            "torchvision: 0.10.0+cu102\n",
            "detectron2 : 0.5\n",
            "\n"
          ]
        }
      ]
    },
    {
      "cell_type": "code",
      "metadata": {
        "id": "svLCFntxGDCs"
      },
      "source": [
        "import torch, torchvision\n",
        "import detectron2\n",
        "from detectron2.utils.logger import setup_logger\n",
        "setup_logger()\n",
        "\n",
        "import glob\n",
        "\n",
        "import os\n",
        "import ntpath\n",
        "import numpy as np\n",
        "import cv2\n",
        "import random\n",
        "import itertools\n",
        "import pandas as pd\n",
        "from tqdm import tqdm\n",
        "import urllib\n",
        "import json\n",
        "import PIL.Image as Image\n",
        "\n",
        "from detectron2 import model_zoo\n",
        "from detectron2.engine import DefaultPredictor, DefaultTrainer\n",
        "from detectron2.config import get_cfg\n",
        "from detectron2.utils.visualizer import Visualizer, ColorMode\n",
        "from detectron2.data import DatasetCatalog, MetadataCatalog, build_detection_test_loader\n",
        "from detectron2.evaluation import COCOEvaluator, inference_on_dataset\n",
        "from detectron2.structures import BoxMode\n",
        "\n",
        "import seaborn as sns\n",
        "from pylab import rcParams\n",
        "import matplotlib.pyplot as plt\n",
        "from matplotlib import rc"
      ],
      "execution_count": 3,
      "outputs": []
    },
    {
      "cell_type": "code",
      "metadata": {
        "id": "jSjzAdIEGrwl"
      },
      "source": [
        "%matplotlib inline\n",
        "%config InlineBackend.figure_format='retina'\n",
        "sns.set(style='whitegrid', palette='muted', font_scale=1.2)\n",
        "HAPPY_COLORS_PALETTE = [\"#01BEFE\", \"#FFDD00\", \"#FF7D00\", \"#FF006D\", \"#ADFF02\", \"#8F00FF\"]\n",
        "sns.set_palette(sns.color_palette(HAPPY_COLORS_PALETTE))\n",
        "rcParams['figure.figsize'] = 12, 8"
      ],
      "execution_count": 6,
      "outputs": []
    },
    {
      "cell_type": "code",
      "metadata": {
        "id": "bWIOW8S1GC8M",
        "outputId": "109453fd-0e1a-4192-84e2-1e438de62601",
        "colab": {
          "base_uri": "https://localhost:8080/"
        }
      },
      "source": [
        "RANDOM_SEED = 42\n",
        "np.random.seed(RANDOM_SEED)\n",
        "torch.manual_seed(RANDOM_SEED)"
      ],
      "execution_count": 7,
      "outputs": [
        {
          "output_type": "execute_result",
          "data": {
            "text/plain": [
              "<torch._C.Generator at 0x7f600e9becb0>"
            ]
          },
          "metadata": {},
          "execution_count": 7
        }
      ]
    },
    {
      "cell_type": "markdown",
      "metadata": {
        "id": "l7__OW6oHEi1"
      },
      "source": [
        "### Data"
      ]
    },
    {
      "cell_type": "code",
      "metadata": {
        "id": "q-Or1LfGHD7I",
        "outputId": "6f307fac-7232-4785-91f8-6508f92d7de8",
        "colab": {
          "base_uri": "https://localhost:8080/"
        }
      },
      "source": [
        "!gdown --id 1K79wJgmPTWamqb04Op2GxW0SW9oxw8KS"
      ],
      "execution_count": 8,
      "outputs": [
        {
          "output_type": "stream",
          "name": "stdout",
          "text": [
            "Downloading...\n",
            "From: https://drive.google.com/uc?id=1K79wJgmPTWamqb04Op2GxW0SW9oxw8KS\n",
            "To: /content/face_detection.json\n",
            "\r  0% 0.00/274k [00:00<?, ?B/s]\r100% 274k/274k [00:00<00:00, 2.19MB/s]\n"
          ]
        }
      ]
    },
    {
      "cell_type": "code",
      "metadata": {
        "id": "qtWqnUMFHHhE",
        "outputId": "b2d9373f-e7a7-47a6-bf25-101f2896a2ab",
        "colab": {
          "base_uri": "https://localhost:8080/"
        }
      },
      "source": [
        "!head face_detection.json"
      ],
      "execution_count": 9,
      "outputs": [
        {
          "output_type": "stream",
          "name": "stdout",
          "text": [
            "{\"content\": \"http://com.dataturks.a96-i23.open.s3.amazonaws.com/2c9fafb064277d86016431e33e4e003d/8186c3d1-e9d4-4550-8ec1-a062a7628787___0-26.jpg.jpeg\",\"annotation\":[{\"label\":[\"Face\"],\"notes\":\"\",\"points\":[{\"x\":0.08615384615384615,\"y\":0.3063063063063063},{\"x\":0.1723076923076923,\"y\":0.45345345345345345}],\"imageWidth\":650,\"imageHeight\":333},{\"label\":[\"Face\"],\"notes\":\"\",\"points\":[{\"x\":0.583076923076923,\"y\":0.2912912912912913},{\"x\":0.6584615384615384,\"y\":0.46846846846846846}],\"imageWidth\":650,\"imageHeight\":333}],\"extras\":null}\n",
            "{\"content\": \"http://com.dataturks.a96-i23.open.s3.amazonaws.com/2c9fafb064277d86016431e33e4e003d/d1c32c8e-8050-482d-a6c8-b101ccba5b65___0de0ee708a4a47039e441d488615ebb7.png\",\"annotation\":[{\"label\":[\"Face\"],\"notes\":\"\",\"points\":[{\"x\":0.7053087757313109,\"y\":0.23260437375745527},{\"x\":0.7692307692307693,\"y\":0.36182902584493043}],\"imageWidth\":1280,\"imageHeight\":697}],\"extras\":null}\n",
            "{\"content\": \"http://com.dataturks.a96-i23.open.s3.amazonaws.com/2c9fafb064277d86016431e33e4e003d/aaa5a997-b248-4724-9002-b29117725102___0rCMbYS7vkSINlu61.jpg.jpeg\",\"annotation\":[{\"label\":[\"Face\"],\"notes\":\"\",\"points\":[{\"x\":0.46956521739130436,\"y\":0.05},{\"x\":0.6065217391304348,\"y\":0.3333333333333333}],\"imageWidth\":460,\"imageHeight\":240},{\"label\":[\"Face\"],\"notes\":\"\",\"points\":[{\"x\":0.6282608695652174,\"y\":0.008333333333333333},{\"x\":0.7456521739130435,\"y\":0.30833333333333335}],\"imageWidth\":460,\"imageHeight\":240}],\"extras\":null}\n",
            "{\"content\": \"http://com.dataturks.a96-i23.open.s3.amazonaws.com/2c9fafb064277d86016431e33e4e003d/c4efa88f-8218-4675-b5ce-30a03bf8b8f4___1.png\",\"annotation\":[{\"label\":[\"Face\"],\"notes\":\"\",\"points\":[{\"x\":0.495,\"y\":0.27147766323024053},{\"x\":0.595,\"y\":0.46048109965635736}],\"imageWidth\":600,\"imageHeight\":291}],\"extras\":null}\n",
            "{\"content\": \"http://com.dataturks.a96-i23.open.s3.amazonaws.com/2c9fafb064277d86016431e33e4e003d/dcc9b187-29fe-4734-83f4-3bc7ad117457___1f913f304d4265684fea960106d1132a_when-families-live-together_featuredImage.jpg.jpeg\",\"annotation\":[{\"label\":[\"Face\"],\"notes\":\"\",\"points\":[{\"x\":0.5586206896551724,\"y\":0.19938650306748465},{\"x\":0.6603448275862069,\"y\":0.3773006134969325}],\"imageWidth\":580,\"imageHeight\":326},{\"label\":[\"Face\"],\"notes\":\"\",\"points\":[{\"x\":0.38620689655172413,\"y\":0.18711656441717792},{\"x\":0.4896551724137931,\"y\":0.4049079754601227}],\"imageWidth\":580,\"imageHeight\":326},{\"label\":[\"Face\"],\"notes\":\"\",\"points\":[{\"x\":0.1724137931034483,\"y\":0.23006134969325154},{\"x\":0.2775862068965517,\"y\":0.44171779141104295}],\"imageWidth\":580,\"imageHeight\":326},{\"label\":[\"Face\"],\"notes\":\"\",\"points\":[{\"x\":0.7155172413793104,\"y\":0.19938650306748465},{\"x\":0.8448275862068966,\"y\":0.41411042944785276}],\"imageWidth\":580,\"imageHeight\":326},{\"label\":[\"Face\"],\"notes\":\"\",\"points\":[{\"x\":0.2982758620689655,\"y\":0.44171779141104295},{\"x\":0.4189655172413793,\"y\":0.6533742331288344}],\"imageWidth\":580,\"imageHeight\":326},{\"label\":[\"Face\"],\"notes\":\"\",\"points\":[{\"x\":0.6362068965517241,\"y\":0.4233128834355828},{\"x\":0.7362068965517241,\"y\":0.6104294478527608}],\"imageWidth\":580,\"imageHeight\":326}],\"extras\":null}\n",
            "{\"content\": \"http://com.dataturks.a96-i23.open.s3.amazonaws.com/2c9fafb064277d86016431e33e4e003d/4ca2f5aa-83cf-4348-8241-d98a0cf9e2e7___2a63b028915ebd600062f8a552ba097c.jpg.jpeg\",\"annotation\":[{\"label\":[\"Face\"],\"notes\":\"\",\"points\":[{\"x\":0.486,\"y\":0.046},{\"x\":0.678,\"y\":0.272}],\"imageWidth\":500,\"imageHeight\":500},{\"label\":[\"Face\"],\"notes\":\"\",\"points\":[{\"x\":0.374,\"y\":0.524},{\"x\":0.542,\"y\":0.794}],\"imageWidth\":500,\"imageHeight\":500}],\"extras\":null}\n",
            "{\"content\": \"http://com.dataturks.a96-i23.open.s3.amazonaws.com/2c9fafb064277d86016431e33e4e003d/45ffc4ac-e24f-4239-b4cc-8dbe597f629a___2B67CA8F00000578-3199800-image-a-1_1439712734572.jpg.jpeg\",\"annotation\":[{\"label\":[\"Face\"],\"notes\":\"\",\"points\":[{\"x\":0.09779179810725552,\"y\":0.06162464985994398},{\"x\":0.31230283911671924,\"y\":0.42296918767507}],\"imageWidth\":634,\"imageHeight\":357},{\"label\":[\"Face\"],\"notes\":\"\",\"points\":[{\"x\":0.30441640378548895,\"y\":0.03361344537815126},{\"x\":0.4668769716088328,\"y\":0.4061624649859944}],\"imageWidth\":634,\"imageHeight\":357},{\"label\":[\"Face\"],\"notes\":\"\",\"points\":[{\"x\":0.416403785488959,\"y\":0.48179271708683474},{\"x\":0.5599369085173501,\"y\":0.7871148459383753}],\"imageWidth\":634,\"imageHeight\":357},{\"label\":[\"Face\"],\"notes\":\"\",\"points\":[{\"x\":0.5157728706624606,\"y\":0.21288515406162464},{\"x\":0.6845425867507886,\"y\":0.5798319327731093}],\"imageWidth\":634,\"imageHeight\":357},{\"label\":[\"Face\"],\"notes\":\"\",\"points\":[{\"x\":0.6719242902208202,\"y\":0.022408963585434174},{\"x\":0.8012618296529969,\"y\":0.40336134453781514}],\"imageWidth\":634,\"imageHeight\":357}],\"extras\":null}\n",
            "{\"content\": \"http://com.dataturks.a96-i23.open.s3.amazonaws.com/2c9fafb064277d86016431e33e4e003d/d5f6e7eb-f17d-4bed-872b-17a43366ba17___2-hd9pmj.jpg.jpeg\",\"annotation\":[{\"label\":[\"Face\"],\"notes\":\"\",\"points\":[{\"x\":0.46875,\"y\":0.27111111111111114},{\"x\":0.565,\"y\":0.4622222222222222}],\"imageWidth\":800,\"imageHeight\":450}],\"extras\":null}\n",
            "{\"content\": \"http://com.dataturks.a96-i23.open.s3.amazonaws.com/2c9fafb064277d86016431e33e4e003d/5b6d8f2e-ae21-44ae-bcf1-19d8e8e98b65___3c4f3c819d8771e425ba09462ce2148e--funny-man-so-funny.jpg.jpeg\",\"annotation\":[{\"label\":[\"Face\"],\"notes\":\"\",\"points\":[{\"x\":0.136,\"y\":0.32456140350877194},{\"x\":0.4704,\"y\":0.5555555555555556}],\"imageWidth\":625,\"imageHeight\":1026},{\"label\":[\"Face\"],\"notes\":\"\",\"points\":[{\"x\":0.5552,\"y\":0.7066276803118908},{\"x\":0.8608,\"y\":0.8489278752436648}],\"imageWidth\":625,\"imageHeight\":1026}],\"extras\":null}\n",
            "{\"content\": \"http://com.dataturks.a96-i23.open.s3.amazonaws.com/2c9fafb064277d86016431e33e4e003d/93927e0d-c774-49b6-8c4d-a299d00a58e8___3d---4K---2D-HD-DTS-ATMOS-4000--MOVIES---9632354635-FIRST-CONFIRM-VB201705171774173-ak_WBP638920203-1524385027.jpeg\",\"annotation\":[{\"label\":[\"Face\"],\"notes\":\"\",\"points\":[{\"x\":0.13043478260869565,\"y\":0.025547445255474453},{\"x\":0.3858695652173913,\"y\":0.22992700729927007}],\"imageWidth\":184,\"imageHeight\":274},{\"label\":[\"Face\"],\"notes\":\"\",\"points\":[{\"x\":0.6141304347826086,\"y\":0.0948905109489051},{\"x\":0.9293478260869565,\"y\":0.38321167883211676}],\"imageWidth\":184,\"imageHeight\":274}],\"extras\":null}\n"
          ]
        }
      ]
    },
    {
      "cell_type": "code",
      "metadata": {
        "id": "_DYJ0aKcHHeY",
        "outputId": "4dd891ac-90f8-43ac-d009-555ce41e152d",
        "colab": {
          "base_uri": "https://localhost:8080/",
          "height": 205
        }
      },
      "source": [
        "faces_df = pd.read_json('face_detection.json', lines=True)\n",
        "faces_df.head()"
      ],
      "execution_count": 10,
      "outputs": [
        {
          "output_type": "execute_result",
          "data": {
            "text/html": [
              "<div>\n",
              "<style scoped>\n",
              "    .dataframe tbody tr th:only-of-type {\n",
              "        vertical-align: middle;\n",
              "    }\n",
              "\n",
              "    .dataframe tbody tr th {\n",
              "        vertical-align: top;\n",
              "    }\n",
              "\n",
              "    .dataframe thead th {\n",
              "        text-align: right;\n",
              "    }\n",
              "</style>\n",
              "<table border=\"1\" class=\"dataframe\">\n",
              "  <thead>\n",
              "    <tr style=\"text-align: right;\">\n",
              "      <th></th>\n",
              "      <th>content</th>\n",
              "      <th>annotation</th>\n",
              "      <th>extras</th>\n",
              "    </tr>\n",
              "  </thead>\n",
              "  <tbody>\n",
              "    <tr>\n",
              "      <th>0</th>\n",
              "      <td>http://com.dataturks.a96-i23.open.s3.amazonaws...</td>\n",
              "      <td>[{'label': ['Face'], 'notes': '', 'points': [{...</td>\n",
              "      <td>NaN</td>\n",
              "    </tr>\n",
              "    <tr>\n",
              "      <th>1</th>\n",
              "      <td>http://com.dataturks.a96-i23.open.s3.amazonaws...</td>\n",
              "      <td>[{'label': ['Face'], 'notes': '', 'points': [{...</td>\n",
              "      <td>NaN</td>\n",
              "    </tr>\n",
              "    <tr>\n",
              "      <th>2</th>\n",
              "      <td>http://com.dataturks.a96-i23.open.s3.amazonaws...</td>\n",
              "      <td>[{'label': ['Face'], 'notes': '', 'points': [{...</td>\n",
              "      <td>NaN</td>\n",
              "    </tr>\n",
              "    <tr>\n",
              "      <th>3</th>\n",
              "      <td>http://com.dataturks.a96-i23.open.s3.amazonaws...</td>\n",
              "      <td>[{'label': ['Face'], 'notes': '', 'points': [{...</td>\n",
              "      <td>NaN</td>\n",
              "    </tr>\n",
              "    <tr>\n",
              "      <th>4</th>\n",
              "      <td>http://com.dataturks.a96-i23.open.s3.amazonaws...</td>\n",
              "      <td>[{'label': ['Face'], 'notes': '', 'points': [{...</td>\n",
              "      <td>NaN</td>\n",
              "    </tr>\n",
              "  </tbody>\n",
              "</table>\n",
              "</div>"
            ],
            "text/plain": [
              "                                             content  ... extras\n",
              "0  http://com.dataturks.a96-i23.open.s3.amazonaws...  ...    NaN\n",
              "1  http://com.dataturks.a96-i23.open.s3.amazonaws...  ...    NaN\n",
              "2  http://com.dataturks.a96-i23.open.s3.amazonaws...  ...    NaN\n",
              "3  http://com.dataturks.a96-i23.open.s3.amazonaws...  ...    NaN\n",
              "4  http://com.dataturks.a96-i23.open.s3.amazonaws...  ...    NaN\n",
              "\n",
              "[5 rows x 3 columns]"
            ]
          },
          "metadata": {},
          "execution_count": 10
        }
      ]
    },
    {
      "cell_type": "markdown",
      "metadata": {
        "id": "dQ2_q0WUHtjo"
      },
      "source": [
        "### Data Preprocessing"
      ]
    },
    {
      "cell_type": "code",
      "metadata": {
        "id": "zhLOR3iKHHbh",
        "outputId": "1f7872da-ce09-46d1-9f79-6d8e37c99a82",
        "colab": {
          "base_uri": "https://localhost:8080/",
          "height": 394
        }
      },
      "source": [
        "os.makedirs(\"faces\", exist_ok=True)\n",
        "\n",
        "dataset = []\n",
        "\n",
        "for index, row in tqdm(faces_df.iterrows(), total=faces_df.shape[0]):\n",
        "    img = urllib.request.urlopen(row[\"content\"])\n",
        "    img = Image.open(img)\n",
        "    img = img.convert('RGB')\n",
        "\n",
        "    image_name = f'face_{index}.jpeg'\n",
        "\n",
        "    img.save(f'faces/{image_name}', \"JPEG\")\n",
        "    \n",
        "    annotations = row['annotation']\n",
        "    for an in annotations:\n",
        "\n",
        "      data = {}\n",
        "\n",
        "      width = an['imageWidth']\n",
        "      height = an['imageHeight']\n",
        "      points = an['points']\n",
        "\n",
        "      data['file_name'] = image_name\n",
        "      data['width'] = width\n",
        "      data['height'] = height\n",
        "\n",
        "      data[\"x_min\"] = int(round(points[0][\"x\"] * width))\n",
        "      data[\"y_min\"] = int(round(points[0][\"y\"] * height))\n",
        "      data[\"x_max\"] = int(round(points[1][\"x\"] * width))\n",
        "      data[\"y_max\"] = int(round(points[1][\"y\"] * height))\n",
        "\n",
        "      data['class_name'] = 'face'\n",
        "\n",
        "      dataset.append(data)"
      ],
      "execution_count": 12,
      "outputs": [
        {
          "output_type": "stream",
          "name": "stderr",
          "text": [
            "  0%|          | 0/409 [00:00<?, ?it/s]\n"
          ]
        },
        {
          "output_type": "error",
          "ename": "HTTPError",
          "evalue": "ignored",
          "traceback": [
            "\u001b[0;31m---------------------------------------------------------------------------\u001b[0m",
            "\u001b[0;31mHTTPError\u001b[0m                                 Traceback (most recent call last)",
            "\u001b[0;32m<ipython-input-12-8e6385de2790>\u001b[0m in \u001b[0;36m<module>\u001b[0;34m()\u001b[0m\n\u001b[1;32m      4\u001b[0m \u001b[0;34m\u001b[0m\u001b[0m\n\u001b[1;32m      5\u001b[0m \u001b[0;32mfor\u001b[0m \u001b[0mindex\u001b[0m\u001b[0;34m,\u001b[0m \u001b[0mrow\u001b[0m \u001b[0;32min\u001b[0m \u001b[0mtqdm\u001b[0m\u001b[0;34m(\u001b[0m\u001b[0mfaces_df\u001b[0m\u001b[0;34m.\u001b[0m\u001b[0miterrows\u001b[0m\u001b[0;34m(\u001b[0m\u001b[0;34m)\u001b[0m\u001b[0;34m,\u001b[0m \u001b[0mtotal\u001b[0m\u001b[0;34m=\u001b[0m\u001b[0mfaces_df\u001b[0m\u001b[0;34m.\u001b[0m\u001b[0mshape\u001b[0m\u001b[0;34m[\u001b[0m\u001b[0;36m0\u001b[0m\u001b[0;34m]\u001b[0m\u001b[0;34m)\u001b[0m\u001b[0;34m:\u001b[0m\u001b[0;34m\u001b[0m\u001b[0;34m\u001b[0m\u001b[0m\n\u001b[0;32m----> 6\u001b[0;31m     \u001b[0mimg\u001b[0m \u001b[0;34m=\u001b[0m \u001b[0murllib\u001b[0m\u001b[0;34m.\u001b[0m\u001b[0mrequest\u001b[0m\u001b[0;34m.\u001b[0m\u001b[0murlopen\u001b[0m\u001b[0;34m(\u001b[0m\u001b[0mrow\u001b[0m\u001b[0;34m[\u001b[0m\u001b[0;34m\"content\"\u001b[0m\u001b[0;34m]\u001b[0m\u001b[0;34m)\u001b[0m\u001b[0;34m\u001b[0m\u001b[0;34m\u001b[0m\u001b[0m\n\u001b[0m\u001b[1;32m      7\u001b[0m     \u001b[0mimg\u001b[0m \u001b[0;34m=\u001b[0m \u001b[0mImage\u001b[0m\u001b[0;34m.\u001b[0m\u001b[0mopen\u001b[0m\u001b[0;34m(\u001b[0m\u001b[0mimg\u001b[0m\u001b[0;34m)\u001b[0m\u001b[0;34m\u001b[0m\u001b[0;34m\u001b[0m\u001b[0m\n\u001b[1;32m      8\u001b[0m     \u001b[0mimg\u001b[0m \u001b[0;34m=\u001b[0m \u001b[0mimg\u001b[0m\u001b[0;34m.\u001b[0m\u001b[0mconvert\u001b[0m\u001b[0;34m(\u001b[0m\u001b[0;34m'RGB'\u001b[0m\u001b[0;34m)\u001b[0m\u001b[0;34m\u001b[0m\u001b[0;34m\u001b[0m\u001b[0m\n",
            "\u001b[0;32m/usr/lib/python3.7/urllib/request.py\u001b[0m in \u001b[0;36murlopen\u001b[0;34m(url, data, timeout, cafile, capath, cadefault, context)\u001b[0m\n\u001b[1;32m    220\u001b[0m     \u001b[0;32melse\u001b[0m\u001b[0;34m:\u001b[0m\u001b[0;34m\u001b[0m\u001b[0;34m\u001b[0m\u001b[0m\n\u001b[1;32m    221\u001b[0m         \u001b[0mopener\u001b[0m \u001b[0;34m=\u001b[0m \u001b[0m_opener\u001b[0m\u001b[0;34m\u001b[0m\u001b[0;34m\u001b[0m\u001b[0m\n\u001b[0;32m--> 222\u001b[0;31m     \u001b[0;32mreturn\u001b[0m \u001b[0mopener\u001b[0m\u001b[0;34m.\u001b[0m\u001b[0mopen\u001b[0m\u001b[0;34m(\u001b[0m\u001b[0murl\u001b[0m\u001b[0;34m,\u001b[0m \u001b[0mdata\u001b[0m\u001b[0;34m,\u001b[0m \u001b[0mtimeout\u001b[0m\u001b[0;34m)\u001b[0m\u001b[0;34m\u001b[0m\u001b[0;34m\u001b[0m\u001b[0m\n\u001b[0m\u001b[1;32m    223\u001b[0m \u001b[0;34m\u001b[0m\u001b[0m\n\u001b[1;32m    224\u001b[0m \u001b[0;32mdef\u001b[0m \u001b[0minstall_opener\u001b[0m\u001b[0;34m(\u001b[0m\u001b[0mopener\u001b[0m\u001b[0;34m)\u001b[0m\u001b[0;34m:\u001b[0m\u001b[0;34m\u001b[0m\u001b[0;34m\u001b[0m\u001b[0m\n",
            "\u001b[0;32m/usr/lib/python3.7/urllib/request.py\u001b[0m in \u001b[0;36mopen\u001b[0;34m(self, fullurl, data, timeout)\u001b[0m\n\u001b[1;32m    529\u001b[0m         \u001b[0;32mfor\u001b[0m \u001b[0mprocessor\u001b[0m \u001b[0;32min\u001b[0m \u001b[0mself\u001b[0m\u001b[0;34m.\u001b[0m\u001b[0mprocess_response\u001b[0m\u001b[0;34m.\u001b[0m\u001b[0mget\u001b[0m\u001b[0;34m(\u001b[0m\u001b[0mprotocol\u001b[0m\u001b[0;34m,\u001b[0m \u001b[0;34m[\u001b[0m\u001b[0;34m]\u001b[0m\u001b[0;34m)\u001b[0m\u001b[0;34m:\u001b[0m\u001b[0;34m\u001b[0m\u001b[0;34m\u001b[0m\u001b[0m\n\u001b[1;32m    530\u001b[0m             \u001b[0mmeth\u001b[0m \u001b[0;34m=\u001b[0m \u001b[0mgetattr\u001b[0m\u001b[0;34m(\u001b[0m\u001b[0mprocessor\u001b[0m\u001b[0;34m,\u001b[0m \u001b[0mmeth_name\u001b[0m\u001b[0;34m)\u001b[0m\u001b[0;34m\u001b[0m\u001b[0;34m\u001b[0m\u001b[0m\n\u001b[0;32m--> 531\u001b[0;31m             \u001b[0mresponse\u001b[0m \u001b[0;34m=\u001b[0m \u001b[0mmeth\u001b[0m\u001b[0;34m(\u001b[0m\u001b[0mreq\u001b[0m\u001b[0;34m,\u001b[0m \u001b[0mresponse\u001b[0m\u001b[0;34m)\u001b[0m\u001b[0;34m\u001b[0m\u001b[0;34m\u001b[0m\u001b[0m\n\u001b[0m\u001b[1;32m    532\u001b[0m \u001b[0;34m\u001b[0m\u001b[0m\n\u001b[1;32m    533\u001b[0m         \u001b[0;32mreturn\u001b[0m \u001b[0mresponse\u001b[0m\u001b[0;34m\u001b[0m\u001b[0;34m\u001b[0m\u001b[0m\n",
            "\u001b[0;32m/usr/lib/python3.7/urllib/request.py\u001b[0m in \u001b[0;36mhttp_response\u001b[0;34m(self, request, response)\u001b[0m\n\u001b[1;32m    639\u001b[0m         \u001b[0;32mif\u001b[0m \u001b[0;32mnot\u001b[0m \u001b[0;34m(\u001b[0m\u001b[0;36m200\u001b[0m \u001b[0;34m<=\u001b[0m \u001b[0mcode\u001b[0m \u001b[0;34m<\u001b[0m \u001b[0;36m300\u001b[0m\u001b[0;34m)\u001b[0m\u001b[0;34m:\u001b[0m\u001b[0;34m\u001b[0m\u001b[0;34m\u001b[0m\u001b[0m\n\u001b[1;32m    640\u001b[0m             response = self.parent.error(\n\u001b[0;32m--> 641\u001b[0;31m                 'http', request, response, code, msg, hdrs)\n\u001b[0m\u001b[1;32m    642\u001b[0m \u001b[0;34m\u001b[0m\u001b[0m\n\u001b[1;32m    643\u001b[0m         \u001b[0;32mreturn\u001b[0m \u001b[0mresponse\u001b[0m\u001b[0;34m\u001b[0m\u001b[0;34m\u001b[0m\u001b[0m\n",
            "\u001b[0;32m/usr/lib/python3.7/urllib/request.py\u001b[0m in \u001b[0;36merror\u001b[0;34m(self, proto, *args)\u001b[0m\n\u001b[1;32m    567\u001b[0m         \u001b[0;32mif\u001b[0m \u001b[0mhttp_err\u001b[0m\u001b[0;34m:\u001b[0m\u001b[0;34m\u001b[0m\u001b[0;34m\u001b[0m\u001b[0m\n\u001b[1;32m    568\u001b[0m             \u001b[0margs\u001b[0m \u001b[0;34m=\u001b[0m \u001b[0;34m(\u001b[0m\u001b[0mdict\u001b[0m\u001b[0;34m,\u001b[0m \u001b[0;34m'default'\u001b[0m\u001b[0;34m,\u001b[0m \u001b[0;34m'http_error_default'\u001b[0m\u001b[0;34m)\u001b[0m \u001b[0;34m+\u001b[0m \u001b[0morig_args\u001b[0m\u001b[0;34m\u001b[0m\u001b[0;34m\u001b[0m\u001b[0m\n\u001b[0;32m--> 569\u001b[0;31m             \u001b[0;32mreturn\u001b[0m \u001b[0mself\u001b[0m\u001b[0;34m.\u001b[0m\u001b[0m_call_chain\u001b[0m\u001b[0;34m(\u001b[0m\u001b[0;34m*\u001b[0m\u001b[0margs\u001b[0m\u001b[0;34m)\u001b[0m\u001b[0;34m\u001b[0m\u001b[0;34m\u001b[0m\u001b[0m\n\u001b[0m\u001b[1;32m    570\u001b[0m \u001b[0;34m\u001b[0m\u001b[0m\n\u001b[1;32m    571\u001b[0m \u001b[0;31m# XXX probably also want an abstract factory that knows when it makes\u001b[0m\u001b[0;34m\u001b[0m\u001b[0;34m\u001b[0m\u001b[0;34m\u001b[0m\u001b[0m\n",
            "\u001b[0;32m/usr/lib/python3.7/urllib/request.py\u001b[0m in \u001b[0;36m_call_chain\u001b[0;34m(self, chain, kind, meth_name, *args)\u001b[0m\n\u001b[1;32m    501\u001b[0m         \u001b[0;32mfor\u001b[0m \u001b[0mhandler\u001b[0m \u001b[0;32min\u001b[0m \u001b[0mhandlers\u001b[0m\u001b[0;34m:\u001b[0m\u001b[0;34m\u001b[0m\u001b[0;34m\u001b[0m\u001b[0m\n\u001b[1;32m    502\u001b[0m             \u001b[0mfunc\u001b[0m \u001b[0;34m=\u001b[0m \u001b[0mgetattr\u001b[0m\u001b[0;34m(\u001b[0m\u001b[0mhandler\u001b[0m\u001b[0;34m,\u001b[0m \u001b[0mmeth_name\u001b[0m\u001b[0;34m)\u001b[0m\u001b[0;34m\u001b[0m\u001b[0;34m\u001b[0m\u001b[0m\n\u001b[0;32m--> 503\u001b[0;31m             \u001b[0mresult\u001b[0m \u001b[0;34m=\u001b[0m \u001b[0mfunc\u001b[0m\u001b[0;34m(\u001b[0m\u001b[0;34m*\u001b[0m\u001b[0margs\u001b[0m\u001b[0;34m)\u001b[0m\u001b[0;34m\u001b[0m\u001b[0;34m\u001b[0m\u001b[0m\n\u001b[0m\u001b[1;32m    504\u001b[0m             \u001b[0;32mif\u001b[0m \u001b[0mresult\u001b[0m \u001b[0;32mis\u001b[0m \u001b[0;32mnot\u001b[0m \u001b[0;32mNone\u001b[0m\u001b[0;34m:\u001b[0m\u001b[0;34m\u001b[0m\u001b[0;34m\u001b[0m\u001b[0m\n\u001b[1;32m    505\u001b[0m                 \u001b[0;32mreturn\u001b[0m \u001b[0mresult\u001b[0m\u001b[0;34m\u001b[0m\u001b[0;34m\u001b[0m\u001b[0m\n",
            "\u001b[0;32m/usr/lib/python3.7/urllib/request.py\u001b[0m in \u001b[0;36mhttp_error_default\u001b[0;34m(self, req, fp, code, msg, hdrs)\u001b[0m\n\u001b[1;32m    647\u001b[0m \u001b[0;32mclass\u001b[0m \u001b[0mHTTPDefaultErrorHandler\u001b[0m\u001b[0;34m(\u001b[0m\u001b[0mBaseHandler\u001b[0m\u001b[0;34m)\u001b[0m\u001b[0;34m:\u001b[0m\u001b[0;34m\u001b[0m\u001b[0;34m\u001b[0m\u001b[0m\n\u001b[1;32m    648\u001b[0m     \u001b[0;32mdef\u001b[0m \u001b[0mhttp_error_default\u001b[0m\u001b[0;34m(\u001b[0m\u001b[0mself\u001b[0m\u001b[0;34m,\u001b[0m \u001b[0mreq\u001b[0m\u001b[0;34m,\u001b[0m \u001b[0mfp\u001b[0m\u001b[0;34m,\u001b[0m \u001b[0mcode\u001b[0m\u001b[0;34m,\u001b[0m \u001b[0mmsg\u001b[0m\u001b[0;34m,\u001b[0m \u001b[0mhdrs\u001b[0m\u001b[0;34m)\u001b[0m\u001b[0;34m:\u001b[0m\u001b[0;34m\u001b[0m\u001b[0;34m\u001b[0m\u001b[0m\n\u001b[0;32m--> 649\u001b[0;31m         \u001b[0;32mraise\u001b[0m \u001b[0mHTTPError\u001b[0m\u001b[0;34m(\u001b[0m\u001b[0mreq\u001b[0m\u001b[0;34m.\u001b[0m\u001b[0mfull_url\u001b[0m\u001b[0;34m,\u001b[0m \u001b[0mcode\u001b[0m\u001b[0;34m,\u001b[0m \u001b[0mmsg\u001b[0m\u001b[0;34m,\u001b[0m \u001b[0mhdrs\u001b[0m\u001b[0;34m,\u001b[0m \u001b[0mfp\u001b[0m\u001b[0;34m)\u001b[0m\u001b[0;34m\u001b[0m\u001b[0;34m\u001b[0m\u001b[0m\n\u001b[0m\u001b[1;32m    650\u001b[0m \u001b[0;34m\u001b[0m\u001b[0m\n\u001b[1;32m    651\u001b[0m \u001b[0;32mclass\u001b[0m \u001b[0mHTTPRedirectHandler\u001b[0m\u001b[0;34m(\u001b[0m\u001b[0mBaseHandler\u001b[0m\u001b[0;34m)\u001b[0m\u001b[0;34m:\u001b[0m\u001b[0;34m\u001b[0m\u001b[0;34m\u001b[0m\u001b[0m\n",
            "\u001b[0;31mHTTPError\u001b[0m: HTTP Error 404: Not Found"
          ]
        }
      ]
    },
    {
      "cell_type": "code",
      "metadata": {
        "id": "micXzIRFHHYl"
      },
      "source": [
        ""
      ],
      "execution_count": null,
      "outputs": []
    },
    {
      "cell_type": "code",
      "metadata": {
        "id": "FWbCAaCtHHUx"
      },
      "source": [
        ""
      ],
      "execution_count": null,
      "outputs": []
    }
  ]
}