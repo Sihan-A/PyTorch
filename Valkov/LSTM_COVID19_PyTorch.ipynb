{
  "nbformat": 4,
  "nbformat_minor": 0,
  "metadata": {
    "colab": {
      "name": "LSTM COVID19 PyTorch.ipynb",
      "provenance": [],
      "machine_shape": "hm",
      "authorship_tag": "ABX9TyNK3bpLBCL8GBi6XmEsr1/P",
      "include_colab_link": true
    },
    "kernelspec": {
      "name": "python3",
      "display_name": "Python 3"
    },
    "language_info": {
      "name": "python"
    }
  },
  "cells": [
    {
      "cell_type": "markdown",
      "metadata": {
        "id": "view-in-github",
        "colab_type": "text"
      },
      "source": [
        "<a href=\"https://colab.research.google.com/github/Sihan-A/PyTorch/blob/main/Valkov/LSTM_COVID19_PyTorch.ipynb\" target=\"_parent\"><img src=\"https://colab.research.google.com/assets/colab-badge.svg\" alt=\"Open In Colab\"/></a>"
      ]
    },
    {
      "cell_type": "markdown",
      "metadata": {
        "id": "so7NwlPKq5dX"
      },
      "source": [
        "# LSTM COVID19 PyTorch"
      ]
    },
    {
      "cell_type": "markdown",
      "metadata": {
        "id": "OdtUV7gMqr7y"
      },
      "source": [
        "- [video](https://www.youtube.com/watch?v=8A6TEjG2DNw)\n",
        "- [GitHub](https://github.com/curiousily/Getting-Things-Done-with-Pytorch)"
      ]
    },
    {
      "cell_type": "code",
      "metadata": {
        "id": "CB1p_Q07qjOZ"
      },
      "source": [
        "!pip install -Uq watermark"
      ],
      "execution_count": 1,
      "outputs": []
    },
    {
      "cell_type": "code",
      "metadata": {
        "colab": {
          "base_uri": "https://localhost:8080/"
        },
        "id": "anURTMe7q9hI",
        "outputId": "18487790-cd36-42f0-acc2-e06ee14daab3"
      },
      "source": [
        "%reload_ext watermark\n",
        "%watermark -v -p numpy,pandas,torch"
      ],
      "execution_count": 2,
      "outputs": [
        {
          "output_type": "stream",
          "name": "stdout",
          "text": [
            "Python implementation: CPython\n",
            "Python version       : 3.7.12\n",
            "IPython version      : 5.5.0\n",
            "\n",
            "numpy : 1.19.5\n",
            "pandas: 1.1.5\n",
            "torch : 1.9.0+cu102\n",
            "\n"
          ]
        }
      ]
    },
    {
      "cell_type": "code",
      "metadata": {
        "id": "SJYsDUeIq9eh"
      },
      "source": [
        "import torch\n",
        "import os\n",
        "import numpy as np\n",
        "import pandas as pd\n",
        "from tqdm import tqdm\n",
        "import seaborn as sns\n",
        "from pylab import rcParams\n",
        "import matplotlib.pyplot as plt\n",
        "from matplotlib import rc\n",
        "from sklearn.preprocessing import MinMaxScaler\n",
        "from pandas.plotting import register_matplotlib_converters\n",
        "from torch import nn, optim"
      ],
      "execution_count": 3,
      "outputs": []
    },
    {
      "cell_type": "code",
      "metadata": {
        "id": "1gzg9-Cbq9Z5"
      },
      "source": [
        "%matplotlib inline\n",
        "%config InlineBackend.figure_format='retina'\n",
        "\n",
        "sns.set(style='whitegrid', palette='muted', font_scale=1.2)\n",
        "HAPPY_COLORS_PALETTE = [\"#01BEFE\", \"#FFDD00\", \"#FF7D00\", \"#FF006D\", \"#93D30C\", \"#8F00FF\"]\n",
        "sns.set_palette(sns.color_palette(HAPPY_COLORS_PALETTE))\n",
        "rcParams['figure.figsize'] = 14, 10\n",
        "register_matplotlib_converters()"
      ],
      "execution_count": 4,
      "outputs": []
    },
    {
      "cell_type": "code",
      "metadata": {
        "colab": {
          "base_uri": "https://localhost:8080/"
        },
        "id": "uAiU9sjKsGaa",
        "outputId": "7b549f19-8020-4004-cb22-0b66d6bf3183"
      },
      "source": [
        "RANDOM_SEED = 42\n",
        "np.random.seed(RANDOM_SEED)\n",
        "torch.manual_seed(RANDOM_SEED)"
      ],
      "execution_count": 5,
      "outputs": [
        {
          "output_type": "execute_result",
          "data": {
            "text/plain": [
              "<torch._C.Generator at 0x7fd76e35b490>"
            ]
          },
          "metadata": {},
          "execution_count": 5
        }
      ]
    },
    {
      "cell_type": "code",
      "metadata": {
        "colab": {
          "base_uri": "https://localhost:8080/"
        },
        "id": "XJLiWR_psGXx",
        "outputId": "268a4d3e-98f3-498b-c161-bc82a1b7e48b"
      },
      "source": [
        "!gdown --id 1AsfdLrGESCQnRW5rbMz56A1KBc3Fe5aV"
      ],
      "execution_count": 6,
      "outputs": [
        {
          "output_type": "stream",
          "name": "stdout",
          "text": [
            "Downloading...\n",
            "From: https://drive.google.com/uc?id=1AsfdLrGESCQnRW5rbMz56A1KBc3Fe5aV\n",
            "To: /content/time_series_19-covid-Confirmed.csv\n",
            "\r  0% 0.00/19.2k [00:00<?, ?B/s]\r100% 19.2k/19.2k [00:00<00:00, 40.7MB/s]\n"
          ]
        }
      ]
    },
    {
      "cell_type": "code",
      "metadata": {
        "colab": {
          "base_uri": "https://localhost:8080/",
          "height": 224
        },
        "id": "gnN9vrepsGVS",
        "outputId": "d3544dea-3b78-48b2-e1d1-8a0948ea8372"
      },
      "source": [
        "df = pd.read_csv('time_series_19-covid-Confirmed.csv')\n",
        "df.head()"
      ],
      "execution_count": 7,
      "outputs": [
        {
          "output_type": "execute_result",
          "data": {
            "text/html": [
              "<div>\n",
              "<style scoped>\n",
              "    .dataframe tbody tr th:only-of-type {\n",
              "        vertical-align: middle;\n",
              "    }\n",
              "\n",
              "    .dataframe tbody tr th {\n",
              "        vertical-align: top;\n",
              "    }\n",
              "\n",
              "    .dataframe thead th {\n",
              "        text-align: right;\n",
              "    }\n",
              "</style>\n",
              "<table border=\"1\" class=\"dataframe\">\n",
              "  <thead>\n",
              "    <tr style=\"text-align: right;\">\n",
              "      <th></th>\n",
              "      <th>Province/State</th>\n",
              "      <th>Country/Region</th>\n",
              "      <th>Lat</th>\n",
              "      <th>Long</th>\n",
              "      <th>1/22/20</th>\n",
              "      <th>1/23/20</th>\n",
              "      <th>1/24/20</th>\n",
              "      <th>1/25/20</th>\n",
              "      <th>1/26/20</th>\n",
              "      <th>1/27/20</th>\n",
              "      <th>1/28/20</th>\n",
              "      <th>1/29/20</th>\n",
              "      <th>1/30/20</th>\n",
              "      <th>1/31/20</th>\n",
              "      <th>2/1/20</th>\n",
              "      <th>2/2/20</th>\n",
              "      <th>2/3/20</th>\n",
              "      <th>2/4/20</th>\n",
              "      <th>2/5/20</th>\n",
              "      <th>2/6/20</th>\n",
              "      <th>2/7/20</th>\n",
              "      <th>2/8/20</th>\n",
              "      <th>2/9/20</th>\n",
              "      <th>2/10/20</th>\n",
              "      <th>2/11/20</th>\n",
              "      <th>2/12/20</th>\n",
              "      <th>2/13/20</th>\n",
              "      <th>2/14/20</th>\n",
              "      <th>2/15/20</th>\n",
              "      <th>2/16/20</th>\n",
              "      <th>2/17/20</th>\n",
              "      <th>2/18/20</th>\n",
              "      <th>2/19/20</th>\n",
              "      <th>2/20/20</th>\n",
              "      <th>2/21/20</th>\n",
              "      <th>2/22/20</th>\n",
              "      <th>2/23/20</th>\n",
              "      <th>2/24/20</th>\n",
              "      <th>2/25/20</th>\n",
              "      <th>2/26/20</th>\n",
              "      <th>2/27/20</th>\n",
              "      <th>2/28/20</th>\n",
              "      <th>2/29/20</th>\n",
              "      <th>3/1/20</th>\n",
              "      <th>3/2/20</th>\n",
              "    </tr>\n",
              "  </thead>\n",
              "  <tbody>\n",
              "    <tr>\n",
              "      <th>0</th>\n",
              "      <td>Anhui</td>\n",
              "      <td>Mainland China</td>\n",
              "      <td>31.8257</td>\n",
              "      <td>117.2264</td>\n",
              "      <td>1</td>\n",
              "      <td>9</td>\n",
              "      <td>15</td>\n",
              "      <td>39</td>\n",
              "      <td>60</td>\n",
              "      <td>70</td>\n",
              "      <td>106</td>\n",
              "      <td>152</td>\n",
              "      <td>200</td>\n",
              "      <td>237</td>\n",
              "      <td>297</td>\n",
              "      <td>340</td>\n",
              "      <td>408</td>\n",
              "      <td>480</td>\n",
              "      <td>530</td>\n",
              "      <td>591</td>\n",
              "      <td>665</td>\n",
              "      <td>733</td>\n",
              "      <td>779</td>\n",
              "      <td>830</td>\n",
              "      <td>860</td>\n",
              "      <td>889</td>\n",
              "      <td>910</td>\n",
              "      <td>934</td>\n",
              "      <td>950</td>\n",
              "      <td>962</td>\n",
              "      <td>973</td>\n",
              "      <td>982</td>\n",
              "      <td>986</td>\n",
              "      <td>987</td>\n",
              "      <td>988</td>\n",
              "      <td>989</td>\n",
              "      <td>989</td>\n",
              "      <td>989</td>\n",
              "      <td>989</td>\n",
              "      <td>989</td>\n",
              "      <td>989</td>\n",
              "      <td>990</td>\n",
              "      <td>990</td>\n",
              "      <td>990</td>\n",
              "      <td>990</td>\n",
              "    </tr>\n",
              "    <tr>\n",
              "      <th>1</th>\n",
              "      <td>Beijing</td>\n",
              "      <td>Mainland China</td>\n",
              "      <td>40.1824</td>\n",
              "      <td>116.4142</td>\n",
              "      <td>14</td>\n",
              "      <td>22</td>\n",
              "      <td>36</td>\n",
              "      <td>41</td>\n",
              "      <td>68</td>\n",
              "      <td>80</td>\n",
              "      <td>91</td>\n",
              "      <td>111</td>\n",
              "      <td>114</td>\n",
              "      <td>139</td>\n",
              "      <td>168</td>\n",
              "      <td>191</td>\n",
              "      <td>212</td>\n",
              "      <td>228</td>\n",
              "      <td>253</td>\n",
              "      <td>274</td>\n",
              "      <td>297</td>\n",
              "      <td>315</td>\n",
              "      <td>326</td>\n",
              "      <td>337</td>\n",
              "      <td>342</td>\n",
              "      <td>352</td>\n",
              "      <td>366</td>\n",
              "      <td>372</td>\n",
              "      <td>375</td>\n",
              "      <td>380</td>\n",
              "      <td>381</td>\n",
              "      <td>387</td>\n",
              "      <td>393</td>\n",
              "      <td>395</td>\n",
              "      <td>396</td>\n",
              "      <td>399</td>\n",
              "      <td>399</td>\n",
              "      <td>399</td>\n",
              "      <td>400</td>\n",
              "      <td>400</td>\n",
              "      <td>410</td>\n",
              "      <td>410</td>\n",
              "      <td>411</td>\n",
              "      <td>413</td>\n",
              "      <td>414</td>\n",
              "    </tr>\n",
              "    <tr>\n",
              "      <th>2</th>\n",
              "      <td>Chongqing</td>\n",
              "      <td>Mainland China</td>\n",
              "      <td>30.0572</td>\n",
              "      <td>107.8740</td>\n",
              "      <td>6</td>\n",
              "      <td>9</td>\n",
              "      <td>27</td>\n",
              "      <td>57</td>\n",
              "      <td>75</td>\n",
              "      <td>110</td>\n",
              "      <td>132</td>\n",
              "      <td>147</td>\n",
              "      <td>182</td>\n",
              "      <td>211</td>\n",
              "      <td>247</td>\n",
              "      <td>300</td>\n",
              "      <td>337</td>\n",
              "      <td>366</td>\n",
              "      <td>389</td>\n",
              "      <td>411</td>\n",
              "      <td>426</td>\n",
              "      <td>428</td>\n",
              "      <td>468</td>\n",
              "      <td>486</td>\n",
              "      <td>505</td>\n",
              "      <td>518</td>\n",
              "      <td>529</td>\n",
              "      <td>537</td>\n",
              "      <td>544</td>\n",
              "      <td>551</td>\n",
              "      <td>553</td>\n",
              "      <td>555</td>\n",
              "      <td>560</td>\n",
              "      <td>567</td>\n",
              "      <td>572</td>\n",
              "      <td>573</td>\n",
              "      <td>575</td>\n",
              "      <td>576</td>\n",
              "      <td>576</td>\n",
              "      <td>576</td>\n",
              "      <td>576</td>\n",
              "      <td>576</td>\n",
              "      <td>576</td>\n",
              "      <td>576</td>\n",
              "      <td>576</td>\n",
              "    </tr>\n",
              "    <tr>\n",
              "      <th>3</th>\n",
              "      <td>Fujian</td>\n",
              "      <td>Mainland China</td>\n",
              "      <td>26.0789</td>\n",
              "      <td>117.9874</td>\n",
              "      <td>1</td>\n",
              "      <td>5</td>\n",
              "      <td>10</td>\n",
              "      <td>18</td>\n",
              "      <td>35</td>\n",
              "      <td>59</td>\n",
              "      <td>80</td>\n",
              "      <td>84</td>\n",
              "      <td>101</td>\n",
              "      <td>120</td>\n",
              "      <td>144</td>\n",
              "      <td>159</td>\n",
              "      <td>179</td>\n",
              "      <td>194</td>\n",
              "      <td>205</td>\n",
              "      <td>215</td>\n",
              "      <td>224</td>\n",
              "      <td>239</td>\n",
              "      <td>250</td>\n",
              "      <td>261</td>\n",
              "      <td>267</td>\n",
              "      <td>272</td>\n",
              "      <td>279</td>\n",
              "      <td>281</td>\n",
              "      <td>285</td>\n",
              "      <td>287</td>\n",
              "      <td>290</td>\n",
              "      <td>292</td>\n",
              "      <td>293</td>\n",
              "      <td>293</td>\n",
              "      <td>293</td>\n",
              "      <td>293</td>\n",
              "      <td>293</td>\n",
              "      <td>293</td>\n",
              "      <td>294</td>\n",
              "      <td>294</td>\n",
              "      <td>296</td>\n",
              "      <td>296</td>\n",
              "      <td>296</td>\n",
              "      <td>296</td>\n",
              "      <td>296</td>\n",
              "    </tr>\n",
              "    <tr>\n",
              "      <th>4</th>\n",
              "      <td>Gansu</td>\n",
              "      <td>Mainland China</td>\n",
              "      <td>36.0611</td>\n",
              "      <td>103.8343</td>\n",
              "      <td>0</td>\n",
              "      <td>2</td>\n",
              "      <td>2</td>\n",
              "      <td>4</td>\n",
              "      <td>7</td>\n",
              "      <td>14</td>\n",
              "      <td>19</td>\n",
              "      <td>24</td>\n",
              "      <td>26</td>\n",
              "      <td>29</td>\n",
              "      <td>40</td>\n",
              "      <td>51</td>\n",
              "      <td>55</td>\n",
              "      <td>57</td>\n",
              "      <td>62</td>\n",
              "      <td>62</td>\n",
              "      <td>67</td>\n",
              "      <td>79</td>\n",
              "      <td>83</td>\n",
              "      <td>83</td>\n",
              "      <td>86</td>\n",
              "      <td>87</td>\n",
              "      <td>90</td>\n",
              "      <td>90</td>\n",
              "      <td>90</td>\n",
              "      <td>90</td>\n",
              "      <td>91</td>\n",
              "      <td>91</td>\n",
              "      <td>91</td>\n",
              "      <td>91</td>\n",
              "      <td>91</td>\n",
              "      <td>91</td>\n",
              "      <td>91</td>\n",
              "      <td>91</td>\n",
              "      <td>91</td>\n",
              "      <td>91</td>\n",
              "      <td>91</td>\n",
              "      <td>91</td>\n",
              "      <td>91</td>\n",
              "      <td>91</td>\n",
              "      <td>91</td>\n",
              "    </tr>\n",
              "  </tbody>\n",
              "</table>\n",
              "</div>"
            ],
            "text/plain": [
              "  Province/State  Country/Region      Lat  ...  2/29/20  3/1/20  3/2/20\n",
              "0          Anhui  Mainland China  31.8257  ...      990     990     990\n",
              "1        Beijing  Mainland China  40.1824  ...      411     413     414\n",
              "2      Chongqing  Mainland China  30.0572  ...      576     576     576\n",
              "3         Fujian  Mainland China  26.0789  ...      296     296     296\n",
              "4          Gansu  Mainland China  36.0611  ...       91      91      91\n",
              "\n",
              "[5 rows x 45 columns]"
            ]
          },
          "metadata": {},
          "execution_count": 7
        }
      ]
    },
    {
      "cell_type": "code",
      "metadata": {
        "id": "FB-qydYQsGRn"
      },
      "source": [
        "df = df.iloc[:, 4:]"
      ],
      "execution_count": 8,
      "outputs": []
    },
    {
      "cell_type": "code",
      "metadata": {
        "colab": {
          "base_uri": "https://localhost:8080/",
          "height": 224
        },
        "id": "lQ9NljwushKn",
        "outputId": "285b420c-e0c5-4133-8939-5cb67463961d"
      },
      "source": [
        "df.head()"
      ],
      "execution_count": 9,
      "outputs": [
        {
          "output_type": "execute_result",
          "data": {
            "text/html": [
              "<div>\n",
              "<style scoped>\n",
              "    .dataframe tbody tr th:only-of-type {\n",
              "        vertical-align: middle;\n",
              "    }\n",
              "\n",
              "    .dataframe tbody tr th {\n",
              "        vertical-align: top;\n",
              "    }\n",
              "\n",
              "    .dataframe thead th {\n",
              "        text-align: right;\n",
              "    }\n",
              "</style>\n",
              "<table border=\"1\" class=\"dataframe\">\n",
              "  <thead>\n",
              "    <tr style=\"text-align: right;\">\n",
              "      <th></th>\n",
              "      <th>1/22/20</th>\n",
              "      <th>1/23/20</th>\n",
              "      <th>1/24/20</th>\n",
              "      <th>1/25/20</th>\n",
              "      <th>1/26/20</th>\n",
              "      <th>1/27/20</th>\n",
              "      <th>1/28/20</th>\n",
              "      <th>1/29/20</th>\n",
              "      <th>1/30/20</th>\n",
              "      <th>1/31/20</th>\n",
              "      <th>2/1/20</th>\n",
              "      <th>2/2/20</th>\n",
              "      <th>2/3/20</th>\n",
              "      <th>2/4/20</th>\n",
              "      <th>2/5/20</th>\n",
              "      <th>2/6/20</th>\n",
              "      <th>2/7/20</th>\n",
              "      <th>2/8/20</th>\n",
              "      <th>2/9/20</th>\n",
              "      <th>2/10/20</th>\n",
              "      <th>2/11/20</th>\n",
              "      <th>2/12/20</th>\n",
              "      <th>2/13/20</th>\n",
              "      <th>2/14/20</th>\n",
              "      <th>2/15/20</th>\n",
              "      <th>2/16/20</th>\n",
              "      <th>2/17/20</th>\n",
              "      <th>2/18/20</th>\n",
              "      <th>2/19/20</th>\n",
              "      <th>2/20/20</th>\n",
              "      <th>2/21/20</th>\n",
              "      <th>2/22/20</th>\n",
              "      <th>2/23/20</th>\n",
              "      <th>2/24/20</th>\n",
              "      <th>2/25/20</th>\n",
              "      <th>2/26/20</th>\n",
              "      <th>2/27/20</th>\n",
              "      <th>2/28/20</th>\n",
              "      <th>2/29/20</th>\n",
              "      <th>3/1/20</th>\n",
              "      <th>3/2/20</th>\n",
              "    </tr>\n",
              "  </thead>\n",
              "  <tbody>\n",
              "    <tr>\n",
              "      <th>0</th>\n",
              "      <td>1</td>\n",
              "      <td>9</td>\n",
              "      <td>15</td>\n",
              "      <td>39</td>\n",
              "      <td>60</td>\n",
              "      <td>70</td>\n",
              "      <td>106</td>\n",
              "      <td>152</td>\n",
              "      <td>200</td>\n",
              "      <td>237</td>\n",
              "      <td>297</td>\n",
              "      <td>340</td>\n",
              "      <td>408</td>\n",
              "      <td>480</td>\n",
              "      <td>530</td>\n",
              "      <td>591</td>\n",
              "      <td>665</td>\n",
              "      <td>733</td>\n",
              "      <td>779</td>\n",
              "      <td>830</td>\n",
              "      <td>860</td>\n",
              "      <td>889</td>\n",
              "      <td>910</td>\n",
              "      <td>934</td>\n",
              "      <td>950</td>\n",
              "      <td>962</td>\n",
              "      <td>973</td>\n",
              "      <td>982</td>\n",
              "      <td>986</td>\n",
              "      <td>987</td>\n",
              "      <td>988</td>\n",
              "      <td>989</td>\n",
              "      <td>989</td>\n",
              "      <td>989</td>\n",
              "      <td>989</td>\n",
              "      <td>989</td>\n",
              "      <td>989</td>\n",
              "      <td>990</td>\n",
              "      <td>990</td>\n",
              "      <td>990</td>\n",
              "      <td>990</td>\n",
              "    </tr>\n",
              "    <tr>\n",
              "      <th>1</th>\n",
              "      <td>14</td>\n",
              "      <td>22</td>\n",
              "      <td>36</td>\n",
              "      <td>41</td>\n",
              "      <td>68</td>\n",
              "      <td>80</td>\n",
              "      <td>91</td>\n",
              "      <td>111</td>\n",
              "      <td>114</td>\n",
              "      <td>139</td>\n",
              "      <td>168</td>\n",
              "      <td>191</td>\n",
              "      <td>212</td>\n",
              "      <td>228</td>\n",
              "      <td>253</td>\n",
              "      <td>274</td>\n",
              "      <td>297</td>\n",
              "      <td>315</td>\n",
              "      <td>326</td>\n",
              "      <td>337</td>\n",
              "      <td>342</td>\n",
              "      <td>352</td>\n",
              "      <td>366</td>\n",
              "      <td>372</td>\n",
              "      <td>375</td>\n",
              "      <td>380</td>\n",
              "      <td>381</td>\n",
              "      <td>387</td>\n",
              "      <td>393</td>\n",
              "      <td>395</td>\n",
              "      <td>396</td>\n",
              "      <td>399</td>\n",
              "      <td>399</td>\n",
              "      <td>399</td>\n",
              "      <td>400</td>\n",
              "      <td>400</td>\n",
              "      <td>410</td>\n",
              "      <td>410</td>\n",
              "      <td>411</td>\n",
              "      <td>413</td>\n",
              "      <td>414</td>\n",
              "    </tr>\n",
              "    <tr>\n",
              "      <th>2</th>\n",
              "      <td>6</td>\n",
              "      <td>9</td>\n",
              "      <td>27</td>\n",
              "      <td>57</td>\n",
              "      <td>75</td>\n",
              "      <td>110</td>\n",
              "      <td>132</td>\n",
              "      <td>147</td>\n",
              "      <td>182</td>\n",
              "      <td>211</td>\n",
              "      <td>247</td>\n",
              "      <td>300</td>\n",
              "      <td>337</td>\n",
              "      <td>366</td>\n",
              "      <td>389</td>\n",
              "      <td>411</td>\n",
              "      <td>426</td>\n",
              "      <td>428</td>\n",
              "      <td>468</td>\n",
              "      <td>486</td>\n",
              "      <td>505</td>\n",
              "      <td>518</td>\n",
              "      <td>529</td>\n",
              "      <td>537</td>\n",
              "      <td>544</td>\n",
              "      <td>551</td>\n",
              "      <td>553</td>\n",
              "      <td>555</td>\n",
              "      <td>560</td>\n",
              "      <td>567</td>\n",
              "      <td>572</td>\n",
              "      <td>573</td>\n",
              "      <td>575</td>\n",
              "      <td>576</td>\n",
              "      <td>576</td>\n",
              "      <td>576</td>\n",
              "      <td>576</td>\n",
              "      <td>576</td>\n",
              "      <td>576</td>\n",
              "      <td>576</td>\n",
              "      <td>576</td>\n",
              "    </tr>\n",
              "    <tr>\n",
              "      <th>3</th>\n",
              "      <td>1</td>\n",
              "      <td>5</td>\n",
              "      <td>10</td>\n",
              "      <td>18</td>\n",
              "      <td>35</td>\n",
              "      <td>59</td>\n",
              "      <td>80</td>\n",
              "      <td>84</td>\n",
              "      <td>101</td>\n",
              "      <td>120</td>\n",
              "      <td>144</td>\n",
              "      <td>159</td>\n",
              "      <td>179</td>\n",
              "      <td>194</td>\n",
              "      <td>205</td>\n",
              "      <td>215</td>\n",
              "      <td>224</td>\n",
              "      <td>239</td>\n",
              "      <td>250</td>\n",
              "      <td>261</td>\n",
              "      <td>267</td>\n",
              "      <td>272</td>\n",
              "      <td>279</td>\n",
              "      <td>281</td>\n",
              "      <td>285</td>\n",
              "      <td>287</td>\n",
              "      <td>290</td>\n",
              "      <td>292</td>\n",
              "      <td>293</td>\n",
              "      <td>293</td>\n",
              "      <td>293</td>\n",
              "      <td>293</td>\n",
              "      <td>293</td>\n",
              "      <td>293</td>\n",
              "      <td>294</td>\n",
              "      <td>294</td>\n",
              "      <td>296</td>\n",
              "      <td>296</td>\n",
              "      <td>296</td>\n",
              "      <td>296</td>\n",
              "      <td>296</td>\n",
              "    </tr>\n",
              "    <tr>\n",
              "      <th>4</th>\n",
              "      <td>0</td>\n",
              "      <td>2</td>\n",
              "      <td>2</td>\n",
              "      <td>4</td>\n",
              "      <td>7</td>\n",
              "      <td>14</td>\n",
              "      <td>19</td>\n",
              "      <td>24</td>\n",
              "      <td>26</td>\n",
              "      <td>29</td>\n",
              "      <td>40</td>\n",
              "      <td>51</td>\n",
              "      <td>55</td>\n",
              "      <td>57</td>\n",
              "      <td>62</td>\n",
              "      <td>62</td>\n",
              "      <td>67</td>\n",
              "      <td>79</td>\n",
              "      <td>83</td>\n",
              "      <td>83</td>\n",
              "      <td>86</td>\n",
              "      <td>87</td>\n",
              "      <td>90</td>\n",
              "      <td>90</td>\n",
              "      <td>90</td>\n",
              "      <td>90</td>\n",
              "      <td>91</td>\n",
              "      <td>91</td>\n",
              "      <td>91</td>\n",
              "      <td>91</td>\n",
              "      <td>91</td>\n",
              "      <td>91</td>\n",
              "      <td>91</td>\n",
              "      <td>91</td>\n",
              "      <td>91</td>\n",
              "      <td>91</td>\n",
              "      <td>91</td>\n",
              "      <td>91</td>\n",
              "      <td>91</td>\n",
              "      <td>91</td>\n",
              "      <td>91</td>\n",
              "    </tr>\n",
              "  </tbody>\n",
              "</table>\n",
              "</div>"
            ],
            "text/plain": [
              "   1/22/20  1/23/20  1/24/20  1/25/20  ...  2/28/20  2/29/20  3/1/20  3/2/20\n",
              "0        1        9       15       39  ...      990      990     990     990\n",
              "1       14       22       36       41  ...      410      411     413     414\n",
              "2        6        9       27       57  ...      576      576     576     576\n",
              "3        1        5       10       18  ...      296      296     296     296\n",
              "4        0        2        2        4  ...       91       91      91      91\n",
              "\n",
              "[5 rows x 41 columns]"
            ]
          },
          "metadata": {},
          "execution_count": 9
        }
      ]
    },
    {
      "cell_type": "code",
      "metadata": {
        "colab": {
          "base_uri": "https://localhost:8080/"
        },
        "id": "l-LQr8ZtshH2",
        "outputId": "2eaf9513-c48a-4963-b088-9f671d8e8299"
      },
      "source": [
        "# missing values\n",
        "df.isnull().sum().sum()"
      ],
      "execution_count": 10,
      "outputs": [
        {
          "output_type": "execute_result",
          "data": {
            "text/plain": [
              "0"
            ]
          },
          "metadata": {},
          "execution_count": 10
        }
      ]
    },
    {
      "cell_type": "code",
      "metadata": {
        "colab": {
          "base_uri": "https://localhost:8080/"
        },
        "id": "vRVEX0FfshE1",
        "outputId": "b847c02a-8c62-4435-c540-65c79047e45f"
      },
      "source": [
        "daily_cases = df.sum(axis=0)\n",
        "daily_cases.index = pd.to_datetime(daily_cases.index)\n",
        "daily_cases.head()"
      ],
      "execution_count": 11,
      "outputs": [
        {
          "output_type": "execute_result",
          "data": {
            "text/plain": [
              "2020-01-22     555\n",
              "2020-01-23     653\n",
              "2020-01-24     941\n",
              "2020-01-25    1434\n",
              "2020-01-26    2118\n",
              "dtype: int64"
            ]
          },
          "metadata": {},
          "execution_count": 11
        }
      ]
    },
    {
      "cell_type": "code",
      "metadata": {
        "colab": {
          "base_uri": "https://localhost:8080/",
          "height": 614
        },
        "id": "k_AhNH_LtGIc",
        "outputId": "6d294074-d686-42dd-cf24-8f327052ff6f"
      },
      "source": [
        "plt.plot(daily_cases)\n",
        "plt.title(\"Cumulative daily cases\");"
      ],
      "execution_count": 12,
      "outputs": [
        {
          "output_type": "display_data",
          "data": {
            "image/png": "[encoded data removed]",
            "text/plain": [
              "<Figure size 1008x720 with 1 Axes>"
            ]
          },
          "metadata": {
            "image/png": {
              "width": 846,
              "height": 597
            }
          }
        }
      ]
    },
    {
      "cell_type": "code",
      "metadata": {
        "id": "zsAW5dH2tGE4"
      },
      "source": [
        ""
      ],
      "execution_count": null,
      "outputs": []
    },
    {
      "cell_type": "code",
      "metadata": {
        "id": "UaEx1djKshCB"
      },
      "source": [
        ""
      ],
      "execution_count": null,
      "outputs": []
    },
    {
      "cell_type": "code",
      "metadata": {
        "id": "iKMWrSBPsg9C"
      },
      "source": [
        ""
      ],
      "execution_count": null,
      "outputs": []
    }
  ]
}