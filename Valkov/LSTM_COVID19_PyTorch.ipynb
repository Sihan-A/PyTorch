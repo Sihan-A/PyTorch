{
  "nbformat": 4,
  "nbformat_minor": 0,
  "metadata": {
    "colab": {
      "name": "LSTM COVID19 PyTorch.ipynb",
      "provenance": [],
      "authorship_tag": "ABX9TyMPWV/I5Jn+5G3Xwjo5s0mH",
      "include_colab_link": true
    },
    "kernelspec": {
      "name": "python3",
      "display_name": "Python 3"
    },
    "language_info": {
      "name": "python"
    }
  },
  "cells": [
    {
      "cell_type": "markdown",
      "metadata": {
        "id": "view-in-github",
        "colab_type": "text"
      },
      "source": [
        "<a href=\"https://colab.research.google.com/github/Sihan-A/PyTorch/blob/main/Valkov/LSTM_COVID19_PyTorch.ipynb\" target=\"_parent\"><img src=\"https://colab.research.google.com/assets/colab-badge.svg\" alt=\"Open In Colab\"/></a>"
      ]
    },
    {
      "cell_type": "markdown",
      "metadata": {
        "id": "so7NwlPKq5dX"
      },
      "source": [
        "# LSTM COVID19 PyTorch"
      ]
    },
    {
      "cell_type": "markdown",
      "metadata": {
        "id": "OdtUV7gMqr7y"
      },
      "source": [
        "- [video](https://www.youtube.com/watch?v=8A6TEjG2DNw)\n",
        "- [GitHub](https://github.com/curiousily/Getting-Things-Done-with-Pytorch)"
      ]
    },
    {
      "cell_type": "code",
      "metadata": {
        "id": "CB1p_Q07qjOZ"
      },
      "source": [
        ""
      ],
      "execution_count": null,
      "outputs": []
    },
    {
      "cell_type": "code",
      "metadata": {
        "id": "anURTMe7q9hI"
      },
      "source": [
        ""
      ],
      "execution_count": null,
      "outputs": []
    },
    {
      "cell_type": "code",
      "metadata": {
        "id": "SJYsDUeIq9eh"
      },
      "source": [
        ""
      ],
      "execution_count": null,
      "outputs": []
    },
    {
      "cell_type": "code",
      "metadata": {
        "id": "1gzg9-Cbq9Z5"
      },
      "source": [
        ""
      ],
      "execution_count": null,
      "outputs": []
    }
  ]
}