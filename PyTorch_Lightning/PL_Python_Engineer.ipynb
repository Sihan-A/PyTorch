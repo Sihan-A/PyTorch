{
  "nbformat": 4,
  "nbformat_minor": 0,
  "metadata": {
    "colab": {
      "name": "PL_Python_Engineer.ipynb",
      "provenance": [],
      "authorship_tag": "ABX9TyOUeUXK66JUJlZDE2xFr6mA",
      "include_colab_link": true
    },
    "kernelspec": {
      "name": "python3",
      "display_name": "Python 3"
    },
    "language_info": {
      "name": "python"
    }
  },
  "cells": [
    {
      "cell_type": "markdown",
      "metadata": {
        "id": "view-in-github",
        "colab_type": "text"
      },
      "source": [
        "<a href=\"https://colab.research.google.com/github/Sihan-A/PyTorch/blob/main/PyTorch_Lightning/PL_Python_Engineer.ipynb\" target=\"_parent\"><img src=\"https://colab.research.google.com/assets/colab-badge.svg\" alt=\"Open In Colab\"/></a>"
      ]
    },
    {
      "cell_type": "markdown",
      "metadata": {
        "id": "Kt89e1aBRfHl"
      },
      "source": [
        "Pytorch Lighning Tutorial"
      ]
    },
    {
      "cell_type": "markdown",
      "metadata": {
        "id": "oMJ2BglZRjk-"
      },
      "source": [
        "Youtube: [PyTorch Lightning](https://www.youtube.com/watch?v=Hgg8Xy6IRig)\n",
        "\n",
        "Github: [code](https://github.com/python-engineer/pytorch-examples/blob/master/pytorch-lightning/lightning.py)"
      ]
    },
    {
      "cell_type": "code",
      "metadata": {
        "id": "QtS4TGm3RamB"
      },
      "source": [
        ""
      ],
      "execution_count": null,
      "outputs": []
    }
  ]
}