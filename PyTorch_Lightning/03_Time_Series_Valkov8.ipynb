{
  "nbformat": 4,
  "nbformat_minor": 0,
  "metadata": {
    "colab": {
      "name": "Untitled8.ipynb",
      "provenance": [],
      "authorship_tag": "ABX9TyOoz9PSoTaXfBRO3Nck+UkG",
      "include_colab_link": true
    },
    "kernelspec": {
      "name": "python3",
      "display_name": "Python 3"
    },
    "language_info": {
      "name": "python"
    },
    "widgets": {
      "application/vnd.jupyter.widget-state+json": {
        "5020415e51aa4d8cb3b8bff481c34c4c": {
          "model_module": "@jupyter-widgets/controls",
          "model_name": "HBoxModel",
          "model_module_version": "1.5.0",
          "state": {
            "_view_name": "HBoxView",
            "_dom_classes": [],
            "_model_name": "HBoxModel",
            "_view_module": "@jupyter-widgets/controls",
            "_model_module_version": "1.5.0",
            "_view_count": null,
            "_view_module_version": "1.5.0",
            "box_style": "",
            "layout": "IPY_MODEL_e0d76498e5b94256b75a7f6b823cc962",
            "_model_module": "@jupyter-widgets/controls",
            "children": [
              "IPY_MODEL_0f291f19ea464bf49f44e90cfbb1014e",
              "IPY_MODEL_492be11a1afe4eec91b7a0268aadd235",
              "IPY_MODEL_fc095cb69f074265ab3603486446a0dc"
            ]
          }
        },
        "e0d76498e5b94256b75a7f6b823cc962": {
          "model_module": "@jupyter-widgets/base",
          "model_name": "LayoutModel",
          "model_module_version": "1.2.0",
          "state": {
            "_view_name": "LayoutView",
            "grid_template_rows": null,
            "right": null,
            "justify_content": null,
            "_view_module": "@jupyter-widgets/base",
            "overflow": null,
            "_model_module_version": "1.2.0",
            "_view_count": null,
            "flex_flow": null,
            "width": null,
            "min_width": null,
            "border": null,
            "align_items": null,
            "bottom": null,
            "_model_module": "@jupyter-widgets/base",
            "top": null,
            "grid_column": null,
            "overflow_y": null,
            "overflow_x": null,
            "grid_auto_flow": null,
            "grid_area": null,
            "grid_template_columns": null,
            "flex": null,
            "_model_name": "LayoutModel",
            "justify_items": null,
            "grid_row": null,
            "max_height": null,
            "align_content": null,
            "visibility": null,
            "align_self": null,
            "height": null,
            "min_height": null,
            "padding": null,
            "grid_auto_rows": null,
            "grid_gap": null,
            "max_width": null,
            "order": null,
            "_view_module_version": "1.2.0",
            "grid_template_areas": null,
            "object_position": null,
            "object_fit": null,
            "grid_auto_columns": null,
            "margin": null,
            "display": null,
            "left": null
          }
        },
        "0f291f19ea464bf49f44e90cfbb1014e": {
          "model_module": "@jupyter-widgets/controls",
          "model_name": "HTMLModel",
          "model_module_version": "1.5.0",
          "state": {
            "_view_name": "HTMLView",
            "style": "IPY_MODEL_e837c77189bb4aec9bc50dbe7b4695c2",
            "_dom_classes": [],
            "description": "",
            "_model_name": "HTMLModel",
            "placeholder": "​",
            "_view_module": "@jupyter-widgets/controls",
            "_model_module_version": "1.5.0",
            "value": "100%",
            "_view_count": null,
            "_view_module_version": "1.5.0",
            "description_tooltip": null,
            "_model_module": "@jupyter-widgets/controls",
            "layout": "IPY_MODEL_5419e9897e5f4a2dad53c060f8e1aca7"
          }
        },
        "492be11a1afe4eec91b7a0268aadd235": {
          "model_module": "@jupyter-widgets/controls",
          "model_name": "FloatProgressModel",
          "model_module_version": "1.5.0",
          "state": {
            "_view_name": "ProgressView",
            "style": "IPY_MODEL_9fa3beaa81d048fa864bdb760265b7ec",
            "_dom_classes": [],
            "description": "",
            "_model_name": "FloatProgressModel",
            "bar_style": "success",
            "max": 273288,
            "_view_module": "@jupyter-widgets/controls",
            "_model_module_version": "1.5.0",
            "value": 273288,
            "_view_count": null,
            "_view_module_version": "1.5.0",
            "orientation": "horizontal",
            "min": 0,
            "description_tooltip": null,
            "_model_module": "@jupyter-widgets/controls",
            "layout": "IPY_MODEL_d0ea62215cea45b883f5874f1449eca9"
          }
        },
        "fc095cb69f074265ab3603486446a0dc": {
          "model_module": "@jupyter-widgets/controls",
          "model_name": "HTMLModel",
          "model_module_version": "1.5.0",
          "state": {
            "_view_name": "HTMLView",
            "style": "IPY_MODEL_38cba3d9c2bd46c3a0cba9f49989a0ea",
            "_dom_classes": [],
            "description": "",
            "_model_name": "HTMLModel",
            "placeholder": "​",
            "_view_module": "@jupyter-widgets/controls",
            "_model_module_version": "1.5.0",
            "value": " 273288/273288 [00:09&lt;00:00, 34190.29it/s]",
            "_view_count": null,
            "_view_module_version": "1.5.0",
            "description_tooltip": null,
            "_model_module": "@jupyter-widgets/controls",
            "layout": "IPY_MODEL_420eeba4f9c64ac09d8ecedb96dcec74"
          }
        },
        "e837c77189bb4aec9bc50dbe7b4695c2": {
          "model_module": "@jupyter-widgets/controls",
          "model_name": "DescriptionStyleModel",
          "model_module_version": "1.5.0",
          "state": {
            "_view_name": "StyleView",
            "_model_name": "DescriptionStyleModel",
            "description_width": "",
            "_view_module": "@jupyter-widgets/base",
            "_model_module_version": "1.5.0",
            "_view_count": null,
            "_view_module_version": "1.2.0",
            "_model_module": "@jupyter-widgets/controls"
          }
        },
        "5419e9897e5f4a2dad53c060f8e1aca7": {
          "model_module": "@jupyter-widgets/base",
          "model_name": "LayoutModel",
          "model_module_version": "1.2.0",
          "state": {
            "_view_name": "LayoutView",
            "grid_template_rows": null,
            "right": null,
            "justify_content": null,
            "_view_module": "@jupyter-widgets/base",
            "overflow": null,
            "_model_module_version": "1.2.0",
            "_view_count": null,
            "flex_flow": null,
            "width": null,
            "min_width": null,
            "border": null,
            "align_items": null,
            "bottom": null,
            "_model_module": "@jupyter-widgets/base",
            "top": null,
            "grid_column": null,
            "overflow_y": null,
            "overflow_x": null,
            "grid_auto_flow": null,
            "grid_area": null,
            "grid_template_columns": null,
            "flex": null,
            "_model_name": "LayoutModel",
            "justify_items": null,
            "grid_row": null,
            "max_height": null,
            "align_content": null,
            "visibility": null,
            "align_self": null,
            "height": null,
            "min_height": null,
            "padding": null,
            "grid_auto_rows": null,
            "grid_gap": null,
            "max_width": null,
            "order": null,
            "_view_module_version": "1.2.0",
            "grid_template_areas": null,
            "object_position": null,
            "object_fit": null,
            "grid_auto_columns": null,
            "margin": null,
            "display": null,
            "left": null
          }
        },
        "9fa3beaa81d048fa864bdb760265b7ec": {
          "model_module": "@jupyter-widgets/controls",
          "model_name": "ProgressStyleModel",
          "model_module_version": "1.5.0",
          "state": {
            "_view_name": "StyleView",
            "_model_name": "ProgressStyleModel",
            "description_width": "",
            "_view_module": "@jupyter-widgets/base",
            "_model_module_version": "1.5.0",
            "_view_count": null,
            "_view_module_version": "1.2.0",
            "bar_color": null,
            "_model_module": "@jupyter-widgets/controls"
          }
        },
        "d0ea62215cea45b883f5874f1449eca9": {
          "model_module": "@jupyter-widgets/base",
          "model_name": "LayoutModel",
          "model_module_version": "1.2.0",
          "state": {
            "_view_name": "LayoutView",
            "grid_template_rows": null,
            "right": null,
            "justify_content": null,
            "_view_module": "@jupyter-widgets/base",
            "overflow": null,
            "_model_module_version": "1.2.0",
            "_view_count": null,
            "flex_flow": null,
            "width": null,
            "min_width": null,
            "border": null,
            "align_items": null,
            "bottom": null,
            "_model_module": "@jupyter-widgets/base",
            "top": null,
            "grid_column": null,
            "overflow_y": null,
            "overflow_x": null,
            "grid_auto_flow": null,
            "grid_area": null,
            "grid_template_columns": null,
            "flex": null,
            "_model_name": "LayoutModel",
            "justify_items": null,
            "grid_row": null,
            "max_height": null,
            "align_content": null,
            "visibility": null,
            "align_self": null,
            "height": null,
            "min_height": null,
            "padding": null,
            "grid_auto_rows": null,
            "grid_gap": null,
            "max_width": null,
            "order": null,
            "_view_module_version": "1.2.0",
            "grid_template_areas": null,
            "object_position": null,
            "object_fit": null,
            "grid_auto_columns": null,
            "margin": null,
            "display": null,
            "left": null
          }
        },
        "38cba3d9c2bd46c3a0cba9f49989a0ea": {
          "model_module": "@jupyter-widgets/controls",
          "model_name": "DescriptionStyleModel",
          "model_module_version": "1.5.0",
          "state": {
            "_view_name": "StyleView",
            "_model_name": "DescriptionStyleModel",
            "description_width": "",
            "_view_module": "@jupyter-widgets/base",
            "_model_module_version": "1.5.0",
            "_view_count": null,
            "_view_module_version": "1.2.0",
            "_model_module": "@jupyter-widgets/controls"
          }
        },
        "420eeba4f9c64ac09d8ecedb96dcec74": {
          "model_module": "@jupyter-widgets/base",
          "model_name": "LayoutModel",
          "model_module_version": "1.2.0",
          "state": {
            "_view_name": "LayoutView",
            "grid_template_rows": null,
            "right": null,
            "justify_content": null,
            "_view_module": "@jupyter-widgets/base",
            "overflow": null,
            "_model_module_version": "1.2.0",
            "_view_count": null,
            "flex_flow": null,
            "width": null,
            "min_width": null,
            "border": null,
            "align_items": null,
            "bottom": null,
            "_model_module": "@jupyter-widgets/base",
            "top": null,
            "grid_column": null,
            "overflow_y": null,
            "overflow_x": null,
            "grid_auto_flow": null,
            "grid_area": null,
            "grid_template_columns": null,
            "flex": null,
            "_model_name": "LayoutModel",
            "justify_items": null,
            "grid_row": null,
            "max_height": null,
            "align_content": null,
            "visibility": null,
            "align_self": null,
            "height": null,
            "min_height": null,
            "padding": null,
            "grid_auto_rows": null,
            "grid_gap": null,
            "max_width": null,
            "order": null,
            "_view_module_version": "1.2.0",
            "grid_template_areas": null,
            "object_position": null,
            "object_fit": null,
            "grid_auto_columns": null,
            "margin": null,
            "display": null,
            "left": null
          }
        },
        "d723eba6a5a44f7bb9da91f8459ceeec": {
          "model_module": "@jupyter-widgets/controls",
          "model_name": "HBoxModel",
          "model_module_version": "1.5.0",
          "state": {
            "_view_name": "HBoxView",
            "_dom_classes": [],
            "_model_name": "HBoxModel",
            "_view_module": "@jupyter-widgets/controls",
            "_model_module_version": "1.5.0",
            "_view_count": null,
            "_view_module_version": "1.5.0",
            "box_style": "",
            "layout": "IPY_MODEL_98412a88a852458595867812caebe922",
            "_model_module": "@jupyter-widgets/controls",
            "children": [
              "IPY_MODEL_a39a5e20ed3f45ee930b731b4a643e80",
              "IPY_MODEL_35f17ea89f2c4f0aa365b19685b5a1dd",
              "IPY_MODEL_9436f6c29e5f4844bb6e7a414e2a64c9"
            ]
          }
        },
        "98412a88a852458595867812caebe922": {
          "model_module": "@jupyter-widgets/base",
          "model_name": "LayoutModel",
          "model_module_version": "1.2.0",
          "state": {
            "_view_name": "LayoutView",
            "grid_template_rows": null,
            "right": null,
            "justify_content": null,
            "_view_module": "@jupyter-widgets/base",
            "overflow": null,
            "_model_module_version": "1.2.0",
            "_view_count": null,
            "flex_flow": null,
            "width": null,
            "min_width": null,
            "border": null,
            "align_items": null,
            "bottom": null,
            "_model_module": "@jupyter-widgets/base",
            "top": null,
            "grid_column": null,
            "overflow_y": null,
            "overflow_x": null,
            "grid_auto_flow": null,
            "grid_area": null,
            "grid_template_columns": null,
            "flex": null,
            "_model_name": "LayoutModel",
            "justify_items": null,
            "grid_row": null,
            "max_height": null,
            "align_content": null,
            "visibility": null,
            "align_self": null,
            "height": null,
            "min_height": null,
            "padding": null,
            "grid_auto_rows": null,
            "grid_gap": null,
            "max_width": null,
            "order": null,
            "_view_module_version": "1.2.0",
            "grid_template_areas": null,
            "object_position": null,
            "object_fit": null,
            "grid_auto_columns": null,
            "margin": null,
            "display": null,
            "left": null
          }
        },
        "a39a5e20ed3f45ee930b731b4a643e80": {
          "model_module": "@jupyter-widgets/controls",
          "model_name": "HTMLModel",
          "model_module_version": "1.5.0",
          "state": {
            "_view_name": "HTMLView",
            "style": "IPY_MODEL_8246af18895146eb9d5203e5b0a49bf9",
            "_dom_classes": [],
            "description": "",
            "_model_name": "HTMLModel",
            "placeholder": "​",
            "_view_module": "@jupyter-widgets/controls",
            "_model_module_version": "1.5.0",
            "value": "100%",
            "_view_count": null,
            "_view_module_version": "1.5.0",
            "description_tooltip": null,
            "_model_module": "@jupyter-widgets/controls",
            "layout": "IPY_MODEL_ed0b0cb025c449a585eb524cd038dbca"
          }
        },
        "35f17ea89f2c4f0aa365b19685b5a1dd": {
          "model_module": "@jupyter-widgets/controls",
          "model_name": "FloatProgressModel",
          "model_module_version": "1.5.0",
          "state": {
            "_view_name": "ProgressView",
            "style": "IPY_MODEL_5fb66c2256014aeab280231823b56f86",
            "_dom_classes": [],
            "description": "",
            "_model_name": "FloatProgressModel",
            "bar_style": "success",
            "max": 273288,
            "_view_module": "@jupyter-widgets/controls",
            "_model_module_version": "1.5.0",
            "value": 273288,
            "_view_count": null,
            "_view_module_version": "1.5.0",
            "orientation": "horizontal",
            "min": 0,
            "description_tooltip": null,
            "_model_module": "@jupyter-widgets/controls",
            "layout": "IPY_MODEL_7a0ef16314ed421d879fe0cb1908616f"
          }
        },
        "9436f6c29e5f4844bb6e7a414e2a64c9": {
          "model_module": "@jupyter-widgets/controls",
          "model_name": "HTMLModel",
          "model_module_version": "1.5.0",
          "state": {
            "_view_name": "HTMLView",
            "style": "IPY_MODEL_2fea6dcefa244feaa09f6a00e47d7a36",
            "_dom_classes": [],
            "description": "",
            "_model_name": "HTMLModel",
            "placeholder": "​",
            "_view_module": "@jupyter-widgets/controls",
            "_model_module_version": "1.5.0",
            "value": " 273288/273288 [00:41&lt;00:00, 6531.84it/s]",
            "_view_count": null,
            "_view_module_version": "1.5.0",
            "description_tooltip": null,
            "_model_module": "@jupyter-widgets/controls",
            "layout": "IPY_MODEL_abe0835590674ae6b9f23461c5d57e99"
          }
        },
        "8246af18895146eb9d5203e5b0a49bf9": {
          "model_module": "@jupyter-widgets/controls",
          "model_name": "DescriptionStyleModel",
          "model_module_version": "1.5.0",
          "state": {
            "_view_name": "StyleView",
            "_model_name": "DescriptionStyleModel",
            "description_width": "",
            "_view_module": "@jupyter-widgets/base",
            "_model_module_version": "1.5.0",
            "_view_count": null,
            "_view_module_version": "1.2.0",
            "_model_module": "@jupyter-widgets/controls"
          }
        },
        "ed0b0cb025c449a585eb524cd038dbca": {
          "model_module": "@jupyter-widgets/base",
          "model_name": "LayoutModel",
          "model_module_version": "1.2.0",
          "state": {
            "_view_name": "LayoutView",
            "grid_template_rows": null,
            "right": null,
            "justify_content": null,
            "_view_module": "@jupyter-widgets/base",
            "overflow": null,
            "_model_module_version": "1.2.0",
            "_view_count": null,
            "flex_flow": null,
            "width": null,
            "min_width": null,
            "border": null,
            "align_items": null,
            "bottom": null,
            "_model_module": "@jupyter-widgets/base",
            "top": null,
            "grid_column": null,
            "overflow_y": null,
            "overflow_x": null,
            "grid_auto_flow": null,
            "grid_area": null,
            "grid_template_columns": null,
            "flex": null,
            "_model_name": "LayoutModel",
            "justify_items": null,
            "grid_row": null,
            "max_height": null,
            "align_content": null,
            "visibility": null,
            "align_self": null,
            "height": null,
            "min_height": null,
            "padding": null,
            "grid_auto_rows": null,
            "grid_gap": null,
            "max_width": null,
            "order": null,
            "_view_module_version": "1.2.0",
            "grid_template_areas": null,
            "object_position": null,
            "object_fit": null,
            "grid_auto_columns": null,
            "margin": null,
            "display": null,
            "left": null
          }
        },
        "5fb66c2256014aeab280231823b56f86": {
          "model_module": "@jupyter-widgets/controls",
          "model_name": "ProgressStyleModel",
          "model_module_version": "1.5.0",
          "state": {
            "_view_name": "StyleView",
            "_model_name": "ProgressStyleModel",
            "description_width": "",
            "_view_module": "@jupyter-widgets/base",
            "_model_module_version": "1.5.0",
            "_view_count": null,
            "_view_module_version": "1.2.0",
            "bar_color": null,
            "_model_module": "@jupyter-widgets/controls"
          }
        },
        "7a0ef16314ed421d879fe0cb1908616f": {
          "model_module": "@jupyter-widgets/base",
          "model_name": "LayoutModel",
          "model_module_version": "1.2.0",
          "state": {
            "_view_name": "LayoutView",
            "grid_template_rows": null,
            "right": null,
            "justify_content": null,
            "_view_module": "@jupyter-widgets/base",
            "overflow": null,
            "_model_module_version": "1.2.0",
            "_view_count": null,
            "flex_flow": null,
            "width": null,
            "min_width": null,
            "border": null,
            "align_items": null,
            "bottom": null,
            "_model_module": "@jupyter-widgets/base",
            "top": null,
            "grid_column": null,
            "overflow_y": null,
            "overflow_x": null,
            "grid_auto_flow": null,
            "grid_area": null,
            "grid_template_columns": null,
            "flex": null,
            "_model_name": "LayoutModel",
            "justify_items": null,
            "grid_row": null,
            "max_height": null,
            "align_content": null,
            "visibility": null,
            "align_self": null,
            "height": null,
            "min_height": null,
            "padding": null,
            "grid_auto_rows": null,
            "grid_gap": null,
            "max_width": null,
            "order": null,
            "_view_module_version": "1.2.0",
            "grid_template_areas": null,
            "object_position": null,
            "object_fit": null,
            "grid_auto_columns": null,
            "margin": null,
            "display": null,
            "left": null
          }
        },
        "2fea6dcefa244feaa09f6a00e47d7a36": {
          "model_module": "@jupyter-widgets/controls",
          "model_name": "DescriptionStyleModel",
          "model_module_version": "1.5.0",
          "state": {
            "_view_name": "StyleView",
            "_model_name": "DescriptionStyleModel",
            "description_width": "",
            "_view_module": "@jupyter-widgets/base",
            "_model_module_version": "1.5.0",
            "_view_count": null,
            "_view_module_version": "1.2.0",
            "_model_module": "@jupyter-widgets/controls"
          }
        },
        "abe0835590674ae6b9f23461c5d57e99": {
          "model_module": "@jupyter-widgets/base",
          "model_name": "LayoutModel",
          "model_module_version": "1.2.0",
          "state": {
            "_view_name": "LayoutView",
            "grid_template_rows": null,
            "right": null,
            "justify_content": null,
            "_view_module": "@jupyter-widgets/base",
            "overflow": null,
            "_model_module_version": "1.2.0",
            "_view_count": null,
            "flex_flow": null,
            "width": null,
            "min_width": null,
            "border": null,
            "align_items": null,
            "bottom": null,
            "_model_module": "@jupyter-widgets/base",
            "top": null,
            "grid_column": null,
            "overflow_y": null,
            "overflow_x": null,
            "grid_auto_flow": null,
            "grid_area": null,
            "grid_template_columns": null,
            "flex": null,
            "_model_name": "LayoutModel",
            "justify_items": null,
            "grid_row": null,
            "max_height": null,
            "align_content": null,
            "visibility": null,
            "align_self": null,
            "height": null,
            "min_height": null,
            "padding": null,
            "grid_auto_rows": null,
            "grid_gap": null,
            "max_width": null,
            "order": null,
            "_view_module_version": "1.2.0",
            "grid_template_areas": null,
            "object_position": null,
            "object_fit": null,
            "grid_auto_columns": null,
            "margin": null,
            "display": null,
            "left": null
          }
        }
      }
    }
  },
  "cells": [
    {
      "cell_type": "markdown",
      "metadata": {
        "id": "view-in-github",
        "colab_type": "text"
      },
      "source": [
        "<a href=\"https://colab.research.google.com/github/Sihan-A/PyTorch/blob/main/PyTorch_Lightning/03_Time_Series_Valkov8.ipynb\" target=\"_parent\"><img src=\"https://colab.research.google.com/assets/colab-badge.svg\" alt=\"Open In Colab\"/></a>"
      ]
    },
    {
      "cell_type": "markdown",
      "metadata": {
        "id": "XRXY1sj42Nf5"
      },
      "source": [
        "[TouTube](https://www.youtube.com/watch?v=jR0phoeXjrc&t=249s)"
      ]
    },
    {
      "cell_type": "code",
      "metadata": {
        "colab": {
          "base_uri": "https://localhost:8080/"
        },
        "id": "URljj867Xgsp",
        "outputId": "e2f4464b-c99c-4aaf-9f5a-966ab9540395"
      },
      "source": [
        "!pip install --quiet pytorch-lightning==1.2.5"
      ],
      "execution_count": 1,
      "outputs": [
        {
          "output_type": "stream",
          "name": "stdout",
          "text": [
            "\u001b[K     |████████████████████████████████| 826 kB 14.8 MB/s \n",
            "\u001b[K     |████████████████████████████████| 282 kB 72.4 MB/s \n",
            "\u001b[K     |████████████████████████████████| 119 kB 57.3 MB/s \n",
            "\u001b[K     |████████████████████████████████| 269 kB 74.5 MB/s \n",
            "\u001b[K     |████████████████████████████████| 829 kB 73.2 MB/s \n",
            "\u001b[K     |████████████████████████████████| 1.3 MB 36.3 MB/s \n",
            "\u001b[K     |████████████████████████████████| 142 kB 70.9 MB/s \n",
            "\u001b[K     |████████████████████████████████| 294 kB 95.4 MB/s \n",
            "\u001b[?25h  Building wheel for future (setup.py) ... \u001b[?25l\u001b[?25hdone\n",
            "  Building wheel for PyYAML (setup.py) ... \u001b[?25l\u001b[?25hdone\n"
          ]
        }
      ]
    },
    {
      "cell_type": "code",
      "metadata": {
        "colab": {
          "base_uri": "https://localhost:8080/"
        },
        "id": "_7nfzgF_Xjoz",
        "outputId": "083ab09c-51c9-43b2-c1c2-a95e559b1896"
      },
      "source": [
        "!pip install --quiet tqdm==4.59.0"
      ],
      "execution_count": 2,
      "outputs": [
        {
          "output_type": "stream",
          "name": "stdout",
          "text": [
            "\u001b[?25l\r\u001b[K     |████▍                           | 10 kB 28.7 MB/s eta 0:00:01\r\u001b[K     |████████▉                       | 20 kB 37.3 MB/s eta 0:00:01\r\u001b[K     |█████████████▎                  | 30 kB 27.1 MB/s eta 0:00:01\r\u001b[K     |█████████████████▊              | 40 kB 20.5 MB/s eta 0:00:01\r\u001b[K     |██████████████████████          | 51 kB 18.0 MB/s eta 0:00:01\r\u001b[K     |██████████████████████████▌     | 61 kB 14.4 MB/s eta 0:00:01\r\u001b[K     |███████████████████████████████ | 71 kB 14.9 MB/s eta 0:00:01\r\u001b[K     |████████████████████████████████| 74 kB 1.8 MB/s \n",
            "\u001b[?25h"
          ]
        }
      ]
    },
    {
      "cell_type": "code",
      "metadata": {
        "id": "NfDEv5sqXjmL"
      },
      "source": [
        "import seaborn as sns\n",
        "from pylab import rcParams\n",
        "import matplotlib.pyplot as plt\n",
        "from matplotlib import rc\n",
        "\n",
        "import pandas as pd\n",
        "import numpy as np\n",
        "from tqdm.notebook import tqdm\n",
        "import pytorch_lightning as pl\n",
        "from sklearn.preprocessing import MinMaxScaler\n",
        "\n",
        "import torch\n",
        "import torch.autograd as autograd\n",
        "import torch.nn as nn\n",
        "import torch.nn.functional as F\n",
        "import torch.optim as optim\n",
        "from torch.utils.data import Dataset, DataLoader"
      ],
      "execution_count": 3,
      "outputs": []
    },
    {
      "cell_type": "code",
      "metadata": {
        "id": "9FL-NB3-Xjjh"
      },
      "source": [
        "%matplotlib inline\n",
        "%config InlineBackend.figure_format='retina'\n",
        "sns.set(style='whitegrid', palette='muted', font_scale=1.2)\n",
        "HAPPY_COLORS_PALETTE = [\"#01BEFE\",\"#FFDD00\",\"#FF7D00\",\"#FF006D\",\"#ADFF02\",\"#8F00FF\"]\n",
        "sns.set_palette(sns.color_palette(HAPPY_COLORS_PALETTE))\n",
        "rcParams['figure.figsize'] =12,8\n",
        "tqdm.pandas()"
      ],
      "execution_count": 4,
      "outputs": []
    },
    {
      "cell_type": "code",
      "metadata": {
        "colab": {
          "base_uri": "https://localhost:8080/"
        },
        "id": "JyW1VKGhXjgm",
        "outputId": "863f0685-d316-425c-f391-35e1aafbc8eb"
      },
      "source": [
        "pl.seed_everything(42)"
      ],
      "execution_count": 5,
      "outputs": [
        {
          "output_type": "stream",
          "name": "stderr",
          "text": [
            "Global seed set to 42\n"
          ]
        },
        {
          "output_type": "execute_result",
          "data": {
            "text/plain": [
              "42"
            ]
          },
          "metadata": {},
          "execution_count": 5
        }
      ]
    },
    {
      "cell_type": "markdown",
      "metadata": {
        "id": "4Jr2AEDtYthA"
      },
      "source": [
        "## Load Data"
      ]
    },
    {
      "cell_type": "code",
      "metadata": {
        "colab": {
          "base_uri": "https://localhost:8080/"
        },
        "id": "E4NsR5VPYv8N",
        "outputId": "c9681f81-045d-4c7a-b9f0-8c3aba96bf48"
      },
      "source": [
        "!gdown --id 174pzX55XaNzWgjZSgX6Us13fnBvPCca6"
      ],
      "execution_count": 6,
      "outputs": [
        {
          "output_type": "stream",
          "name": "stdout",
          "text": [
            "Downloading...\n",
            "From: https://drive.google.com/uc?id=174pzX55XaNzWgjZSgX6Us13fnBvPCca6\n",
            "To: /content/Binance_BTCUSDT_minute.csv\n",
            "37.2MB [00:00, 171MB/s] \n"
          ]
        }
      ]
    },
    {
      "cell_type": "code",
      "metadata": {
        "colab": {
          "base_uri": "https://localhost:8080/",
          "height": 221
        },
        "id": "7VB8axR2XjeJ",
        "outputId": "82bb9a6d-0bb7-43ad-ea88-fa80d5e7d584"
      },
      "source": [
        "df = pd.read_csv(\"Binance_BTCUSDT_minute.csv\", parse_dates=[\"date\"])\n",
        "df = df.sort_values(by=\"date\").reset_index(drop=True)\n",
        "df.head()"
      ],
      "execution_count": 7,
      "outputs": [
        {
          "output_type": "execute_result",
          "data": {
            "text/html": [
              "<div>\n",
              "<style scoped>\n",
              "    .dataframe tbody tr th:only-of-type {\n",
              "        vertical-align: middle;\n",
              "    }\n",
              "\n",
              "    .dataframe tbody tr th {\n",
              "        vertical-align: top;\n",
              "    }\n",
              "\n",
              "    .dataframe thead th {\n",
              "        text-align: right;\n",
              "    }\n",
              "</style>\n",
              "<table border=\"1\" class=\"dataframe\">\n",
              "  <thead>\n",
              "    <tr style=\"text-align: right;\">\n",
              "      <th></th>\n",
              "      <th>unix</th>\n",
              "      <th>date</th>\n",
              "      <th>symbol</th>\n",
              "      <th>open</th>\n",
              "      <th>high</th>\n",
              "      <th>low</th>\n",
              "      <th>close</th>\n",
              "      <th>Volume BTC</th>\n",
              "      <th>Volume USDT</th>\n",
              "      <th>tradecount</th>\n",
              "    </tr>\n",
              "  </thead>\n",
              "  <tbody>\n",
              "    <tr>\n",
              "      <th>0</th>\n",
              "      <td>1599856800000</td>\n",
              "      <td>2020-09-11 20:40:00</td>\n",
              "      <td>BTC/USDT</td>\n",
              "      <td>10317.00</td>\n",
              "      <td>10317.01</td>\n",
              "      <td>10314.36</td>\n",
              "      <td>10316.00</td>\n",
              "      <td>32.997684</td>\n",
              "      <td>340398.477553</td>\n",
              "      <td>342</td>\n",
              "    </tr>\n",
              "    <tr>\n",
              "      <th>1</th>\n",
              "      <td>1599856860000</td>\n",
              "      <td>2020-09-11 20:41:00</td>\n",
              "      <td>BTC/USDT</td>\n",
              "      <td>10316.00</td>\n",
              "      <td>10321.09</td>\n",
              "      <td>10316.00</td>\n",
              "      <td>10319.50</td>\n",
              "      <td>16.328427</td>\n",
              "      <td>168497.705251</td>\n",
              "      <td>256</td>\n",
              "    </tr>\n",
              "    <tr>\n",
              "      <th>2</th>\n",
              "      <td>1599856920000</td>\n",
              "      <td>2020-09-11 20:42:00</td>\n",
              "      <td>BTC/USDT</td>\n",
              "      <td>10319.50</td>\n",
              "      <td>10320.31</td>\n",
              "      <td>10318.49</td>\n",
              "      <td>10319.34</td>\n",
              "      <td>12.123487</td>\n",
              "      <td>125108.931436</td>\n",
              "      <td>193</td>\n",
              "    </tr>\n",
              "    <tr>\n",
              "      <th>3</th>\n",
              "      <td>1599856980000</td>\n",
              "      <td>2020-09-11 20:43:00</td>\n",
              "      <td>BTC/USDT</td>\n",
              "      <td>10319.34</td>\n",
              "      <td>10320.14</td>\n",
              "      <td>10318.89</td>\n",
              "      <td>10319.00</td>\n",
              "      <td>13.548103</td>\n",
              "      <td>139806.963489</td>\n",
              "      <td>187</td>\n",
              "    </tr>\n",
              "    <tr>\n",
              "      <th>4</th>\n",
              "      <td>1599857040000</td>\n",
              "      <td>2020-09-11 20:44:00</td>\n",
              "      <td>BTC/USDT</td>\n",
              "      <td>10318.99</td>\n",
              "      <td>10319.72</td>\n",
              "      <td>10316.58</td>\n",
              "      <td>10319.47</td>\n",
              "      <td>14.466964</td>\n",
              "      <td>149266.708094</td>\n",
              "      <td>284</td>\n",
              "    </tr>\n",
              "  </tbody>\n",
              "</table>\n",
              "</div>"
            ],
            "text/plain": [
              "            unix                date  ...    Volume USDT  tradecount\n",
              "0  1599856800000 2020-09-11 20:40:00  ...  340398.477553         342\n",
              "1  1599856860000 2020-09-11 20:41:00  ...  168497.705251         256\n",
              "2  1599856920000 2020-09-11 20:42:00  ...  125108.931436         193\n",
              "3  1599856980000 2020-09-11 20:43:00  ...  139806.963489         187\n",
              "4  1599857040000 2020-09-11 20:44:00  ...  149266.708094         284\n",
              "\n",
              "[5 rows x 10 columns]"
            ]
          },
          "metadata": {},
          "execution_count": 7
        }
      ]
    },
    {
      "cell_type": "code",
      "metadata": {
        "colab": {
          "base_uri": "https://localhost:8080/"
        },
        "id": "RMhGELNaXjbp",
        "outputId": "8c8057d6-a6de-478a-a649-a10e83e42a6a"
      },
      "source": [
        "df.shape"
      ],
      "execution_count": 8,
      "outputs": [
        {
          "output_type": "execute_result",
          "data": {
            "text/plain": [
              "(273288, 10)"
            ]
          },
          "metadata": {},
          "execution_count": 8
        }
      ]
    },
    {
      "cell_type": "markdown",
      "metadata": {
        "id": "eiwr2l0FZbat"
      },
      "source": [
        "## Preprocessing"
      ]
    },
    {
      "cell_type": "code",
      "metadata": {
        "colab": {
          "base_uri": "https://localhost:8080/"
        },
        "id": "Ptl0XQiwZorK",
        "outputId": "76d65def-c060-4313-aa1d-7f6338e85dd2"
      },
      "source": [
        "df.close"
      ],
      "execution_count": 9,
      "outputs": [
        {
          "output_type": "execute_result",
          "data": {
            "text/plain": [
              "0         10316.00\n",
              "1         10319.50\n",
              "2         10319.34\n",
              "3         10319.00\n",
              "4         10319.47\n",
              "            ...   \n",
              "273283    57816.93\n",
              "273284    57930.28\n",
              "273285    58049.58\n",
              "273286    58215.14\n",
              "273287    58331.16\n",
              "Name: close, Length: 273288, dtype: float64"
            ]
          },
          "metadata": {},
          "execution_count": 9
        }
      ]
    },
    {
      "cell_type": "code",
      "metadata": {
        "id": "FsjONsfAZYtb"
      },
      "source": [
        "df[\"prev_close\"] = df.shift(1)[\"close\"]"
      ],
      "execution_count": 10,
      "outputs": []
    },
    {
      "cell_type": "code",
      "metadata": {
        "colab": {
          "base_uri": "https://localhost:8080/",
          "height": 320
        },
        "id": "zLnFqDkAZYo9",
        "outputId": "ed82a960-af04-4573-b389-db139bfb9e4f"
      },
      "source": [
        "df.head()"
      ],
      "execution_count": 11,
      "outputs": [
        {
          "output_type": "execute_result",
          "data": {
            "text/html": [
              "<div>\n",
              "<style scoped>\n",
              "    .dataframe tbody tr th:only-of-type {\n",
              "        vertical-align: middle;\n",
              "    }\n",
              "\n",
              "    .dataframe tbody tr th {\n",
              "        vertical-align: top;\n",
              "    }\n",
              "\n",
              "    .dataframe thead th {\n",
              "        text-align: right;\n",
              "    }\n",
              "</style>\n",
              "<table border=\"1\" class=\"dataframe\">\n",
              "  <thead>\n",
              "    <tr style=\"text-align: right;\">\n",
              "      <th></th>\n",
              "      <th>unix</th>\n",
              "      <th>date</th>\n",
              "      <th>symbol</th>\n",
              "      <th>open</th>\n",
              "      <th>high</th>\n",
              "      <th>low</th>\n",
              "      <th>close</th>\n",
              "      <th>Volume BTC</th>\n",
              "      <th>Volume USDT</th>\n",
              "      <th>tradecount</th>\n",
              "      <th>prev_close</th>\n",
              "    </tr>\n",
              "  </thead>\n",
              "  <tbody>\n",
              "    <tr>\n",
              "      <th>0</th>\n",
              "      <td>1599856800000</td>\n",
              "      <td>2020-09-11 20:40:00</td>\n",
              "      <td>BTC/USDT</td>\n",
              "      <td>10317.00</td>\n",
              "      <td>10317.01</td>\n",
              "      <td>10314.36</td>\n",
              "      <td>10316.00</td>\n",
              "      <td>32.997684</td>\n",
              "      <td>340398.477553</td>\n",
              "      <td>342</td>\n",
              "      <td>NaN</td>\n",
              "    </tr>\n",
              "    <tr>\n",
              "      <th>1</th>\n",
              "      <td>1599856860000</td>\n",
              "      <td>2020-09-11 20:41:00</td>\n",
              "      <td>BTC/USDT</td>\n",
              "      <td>10316.00</td>\n",
              "      <td>10321.09</td>\n",
              "      <td>10316.00</td>\n",
              "      <td>10319.50</td>\n",
              "      <td>16.328427</td>\n",
              "      <td>168497.705251</td>\n",
              "      <td>256</td>\n",
              "      <td>10316.00</td>\n",
              "    </tr>\n",
              "    <tr>\n",
              "      <th>2</th>\n",
              "      <td>1599856920000</td>\n",
              "      <td>2020-09-11 20:42:00</td>\n",
              "      <td>BTC/USDT</td>\n",
              "      <td>10319.50</td>\n",
              "      <td>10320.31</td>\n",
              "      <td>10318.49</td>\n",
              "      <td>10319.34</td>\n",
              "      <td>12.123487</td>\n",
              "      <td>125108.931436</td>\n",
              "      <td>193</td>\n",
              "      <td>10319.50</td>\n",
              "    </tr>\n",
              "    <tr>\n",
              "      <th>3</th>\n",
              "      <td>1599856980000</td>\n",
              "      <td>2020-09-11 20:43:00</td>\n",
              "      <td>BTC/USDT</td>\n",
              "      <td>10319.34</td>\n",
              "      <td>10320.14</td>\n",
              "      <td>10318.89</td>\n",
              "      <td>10319.00</td>\n",
              "      <td>13.548103</td>\n",
              "      <td>139806.963489</td>\n",
              "      <td>187</td>\n",
              "      <td>10319.34</td>\n",
              "    </tr>\n",
              "    <tr>\n",
              "      <th>4</th>\n",
              "      <td>1599857040000</td>\n",
              "      <td>2020-09-11 20:44:00</td>\n",
              "      <td>BTC/USDT</td>\n",
              "      <td>10318.99</td>\n",
              "      <td>10319.72</td>\n",
              "      <td>10316.58</td>\n",
              "      <td>10319.47</td>\n",
              "      <td>14.466964</td>\n",
              "      <td>149266.708094</td>\n",
              "      <td>284</td>\n",
              "      <td>10319.00</td>\n",
              "    </tr>\n",
              "  </tbody>\n",
              "</table>\n",
              "</div>"
            ],
            "text/plain": [
              "            unix                date  ... tradecount  prev_close\n",
              "0  1599856800000 2020-09-11 20:40:00  ...        342         NaN\n",
              "1  1599856860000 2020-09-11 20:41:00  ...        256    10316.00\n",
              "2  1599856920000 2020-09-11 20:42:00  ...        193    10319.50\n",
              "3  1599856980000 2020-09-11 20:43:00  ...        187    10319.34\n",
              "4  1599857040000 2020-09-11 20:44:00  ...        284    10319.00\n",
              "\n",
              "[5 rows x 11 columns]"
            ]
          },
          "metadata": {},
          "execution_count": 11
        }
      ]
    },
    {
      "cell_type": "code",
      "metadata": {
        "colab": {
          "base_uri": "https://localhost:8080/",
          "height": 69,
          "referenced_widgets": [
            "5020415e51aa4d8cb3b8bff481c34c4c",
            "e0d76498e5b94256b75a7f6b823cc962",
            "0f291f19ea464bf49f44e90cfbb1014e",
            "492be11a1afe4eec91b7a0268aadd235",
            "fc095cb69f074265ab3603486446a0dc",
            "e837c77189bb4aec9bc50dbe7b4695c2",
            "5419e9897e5f4a2dad53c060f8e1aca7",
            "9fa3beaa81d048fa864bdb760265b7ec",
            "d0ea62215cea45b883f5874f1449eca9",
            "38cba3d9c2bd46c3a0cba9f49989a0ea",
            "420eeba4f9c64ac09d8ecedb96dcec74"
          ]
        },
        "id": "Bzlw-0gCZYkq",
        "outputId": "f58e86a7-b9d5-47ca-ee14-df587eed8a19"
      },
      "source": [
        "df[\"close_change\"]=df.progress_apply(\n",
        "    lambda row: 0 if np.isnan(row.prev_close) else row.close - row.prev_close,\n",
        "    axis=1\n",
        ")"
      ],
      "execution_count": 12,
      "outputs": [
        {
          "output_type": "display_data",
          "data": {
            "application/vnd.jupyter.widget-view+json": {
              "model_id": "5020415e51aa4d8cb3b8bff481c34c4c",
              "version_minor": 0,
              "version_major": 2
            },
            "text/plain": [
              "  0%|          | 0/273288 [00:00<?, ?it/s]"
            ]
          },
          "metadata": {}
        }
      ]
    },
    {
      "cell_type": "code",
      "metadata": {
        "colab": {
          "base_uri": "https://localhost:8080/",
          "height": 403
        },
        "id": "69hCYpUKZYgi",
        "outputId": "4c6cbc65-0036-4d42-fba7-e19934355334"
      },
      "source": [
        "df.head()"
      ],
      "execution_count": 13,
      "outputs": [
        {
          "output_type": "execute_result",
          "data": {
            "text/html": [
              "<div>\n",
              "<style scoped>\n",
              "    .dataframe tbody tr th:only-of-type {\n",
              "        vertical-align: middle;\n",
              "    }\n",
              "\n",
              "    .dataframe tbody tr th {\n",
              "        vertical-align: top;\n",
              "    }\n",
              "\n",
              "    .dataframe thead th {\n",
              "        text-align: right;\n",
              "    }\n",
              "</style>\n",
              "<table border=\"1\" class=\"dataframe\">\n",
              "  <thead>\n",
              "    <tr style=\"text-align: right;\">\n",
              "      <th></th>\n",
              "      <th>unix</th>\n",
              "      <th>date</th>\n",
              "      <th>symbol</th>\n",
              "      <th>open</th>\n",
              "      <th>high</th>\n",
              "      <th>low</th>\n",
              "      <th>close</th>\n",
              "      <th>Volume BTC</th>\n",
              "      <th>Volume USDT</th>\n",
              "      <th>tradecount</th>\n",
              "      <th>prev_close</th>\n",
              "      <th>close_change</th>\n",
              "    </tr>\n",
              "  </thead>\n",
              "  <tbody>\n",
              "    <tr>\n",
              "      <th>0</th>\n",
              "      <td>1599856800000</td>\n",
              "      <td>2020-09-11 20:40:00</td>\n",
              "      <td>BTC/USDT</td>\n",
              "      <td>10317.00</td>\n",
              "      <td>10317.01</td>\n",
              "      <td>10314.36</td>\n",
              "      <td>10316.00</td>\n",
              "      <td>32.997684</td>\n",
              "      <td>340398.477553</td>\n",
              "      <td>342</td>\n",
              "      <td>NaN</td>\n",
              "      <td>0.00</td>\n",
              "    </tr>\n",
              "    <tr>\n",
              "      <th>1</th>\n",
              "      <td>1599856860000</td>\n",
              "      <td>2020-09-11 20:41:00</td>\n",
              "      <td>BTC/USDT</td>\n",
              "      <td>10316.00</td>\n",
              "      <td>10321.09</td>\n",
              "      <td>10316.00</td>\n",
              "      <td>10319.50</td>\n",
              "      <td>16.328427</td>\n",
              "      <td>168497.705251</td>\n",
              "      <td>256</td>\n",
              "      <td>10316.00</td>\n",
              "      <td>3.50</td>\n",
              "    </tr>\n",
              "    <tr>\n",
              "      <th>2</th>\n",
              "      <td>1599856920000</td>\n",
              "      <td>2020-09-11 20:42:00</td>\n",
              "      <td>BTC/USDT</td>\n",
              "      <td>10319.50</td>\n",
              "      <td>10320.31</td>\n",
              "      <td>10318.49</td>\n",
              "      <td>10319.34</td>\n",
              "      <td>12.123487</td>\n",
              "      <td>125108.931436</td>\n",
              "      <td>193</td>\n",
              "      <td>10319.50</td>\n",
              "      <td>-0.16</td>\n",
              "    </tr>\n",
              "    <tr>\n",
              "      <th>3</th>\n",
              "      <td>1599856980000</td>\n",
              "      <td>2020-09-11 20:43:00</td>\n",
              "      <td>BTC/USDT</td>\n",
              "      <td>10319.34</td>\n",
              "      <td>10320.14</td>\n",
              "      <td>10318.89</td>\n",
              "      <td>10319.00</td>\n",
              "      <td>13.548103</td>\n",
              "      <td>139806.963489</td>\n",
              "      <td>187</td>\n",
              "      <td>10319.34</td>\n",
              "      <td>-0.34</td>\n",
              "    </tr>\n",
              "    <tr>\n",
              "      <th>4</th>\n",
              "      <td>1599857040000</td>\n",
              "      <td>2020-09-11 20:44:00</td>\n",
              "      <td>BTC/USDT</td>\n",
              "      <td>10318.99</td>\n",
              "      <td>10319.72</td>\n",
              "      <td>10316.58</td>\n",
              "      <td>10319.47</td>\n",
              "      <td>14.466964</td>\n",
              "      <td>149266.708094</td>\n",
              "      <td>284</td>\n",
              "      <td>10319.00</td>\n",
              "      <td>0.47</td>\n",
              "    </tr>\n",
              "  </tbody>\n",
              "</table>\n",
              "</div>"
            ],
            "text/plain": [
              "            unix                date  ... prev_close  close_change\n",
              "0  1599856800000 2020-09-11 20:40:00  ...        NaN          0.00\n",
              "1  1599856860000 2020-09-11 20:41:00  ...   10316.00          3.50\n",
              "2  1599856920000 2020-09-11 20:42:00  ...   10319.50         -0.16\n",
              "3  1599856980000 2020-09-11 20:43:00  ...   10319.34         -0.34\n",
              "4  1599857040000 2020-09-11 20:44:00  ...   10319.00          0.47\n",
              "\n",
              "[5 rows x 12 columns]"
            ]
          },
          "metadata": {},
          "execution_count": 13
        }
      ]
    },
    {
      "cell_type": "code",
      "metadata": {
        "colab": {
          "base_uri": "https://localhost:8080/",
          "height": 69,
          "referenced_widgets": [
            "d723eba6a5a44f7bb9da91f8459ceeec",
            "98412a88a852458595867812caebe922",
            "a39a5e20ed3f45ee930b731b4a643e80",
            "35f17ea89f2c4f0aa365b19685b5a1dd",
            "9436f6c29e5f4844bb6e7a414e2a64c9",
            "8246af18895146eb9d5203e5b0a49bf9",
            "ed0b0cb025c449a585eb524cd038dbca",
            "5fb66c2256014aeab280231823b56f86",
            "7a0ef16314ed421d879fe0cb1908616f",
            "2fea6dcefa244feaa09f6a00e47d7a36",
            "abe0835590674ae6b9f23461c5d57e99"
          ]
        },
        "id": "h878U9ChZYcv",
        "outputId": "3a524164-3d67-4385-cabb-2060d4dd032c"
      },
      "source": [
        "rows =[]\n",
        "for _, row in tqdm(df.iterrows(), total=df.shape[0]):\n",
        "    row_data = dict(\n",
        "        day_of_week=row.date.dayofweek,\n",
        "        day_of_month=row.date.day,\n",
        "        week_of_year=row.date.week,\n",
        "        month=row.date.month,\n",
        "        open=row.open,\n",
        "        high=row.high,\n",
        "        low=row.low,\n",
        "        close_change=row.close_change,\n",
        "        close=row.close\n",
        "    )\n",
        "    rows. append(row_data)\n",
        "features_df = pd.DataFrame(rows)"
      ],
      "execution_count": 14,
      "outputs": [
        {
          "output_type": "display_data",
          "data": {
            "application/vnd.jupyter.widget-view+json": {
              "model_id": "d723eba6a5a44f7bb9da91f8459ceeec",
              "version_minor": 0,
              "version_major": 2
            },
            "text/plain": [
              "  0%|          | 0/273288 [00:00<?, ?it/s]"
            ]
          },
          "metadata": {}
        }
      ]
    },
    {
      "cell_type": "code",
      "metadata": {
        "colab": {
          "base_uri": "https://localhost:8080/"
        },
        "id": "WuUI-HaJbBAq",
        "outputId": "000ac78e-8108-4056-9250-51b38fad66ed"
      },
      "source": [
        "features_df.shape"
      ],
      "execution_count": 15,
      "outputs": [
        {
          "output_type": "execute_result",
          "data": {
            "text/plain": [
              "(273288, 9)"
            ]
          },
          "metadata": {},
          "execution_count": 15
        }
      ]
    },
    {
      "cell_type": "code",
      "metadata": {
        "colab": {
          "base_uri": "https://localhost:8080/",
          "height": 221
        },
        "id": "1l-e2FM6bA7b",
        "outputId": "aa00065d-8dab-4404-d8ce-bdc1e1df04de"
      },
      "source": [
        "features_df.head()"
      ],
      "execution_count": 16,
      "outputs": [
        {
          "output_type": "execute_result",
          "data": {
            "text/html": [
              "<div>\n",
              "<style scoped>\n",
              "    .dataframe tbody tr th:only-of-type {\n",
              "        vertical-align: middle;\n",
              "    }\n",
              "\n",
              "    .dataframe tbody tr th {\n",
              "        vertical-align: top;\n",
              "    }\n",
              "\n",
              "    .dataframe thead th {\n",
              "        text-align: right;\n",
              "    }\n",
              "</style>\n",
              "<table border=\"1\" class=\"dataframe\">\n",
              "  <thead>\n",
              "    <tr style=\"text-align: right;\">\n",
              "      <th></th>\n",
              "      <th>day_of_week</th>\n",
              "      <th>day_of_month</th>\n",
              "      <th>week_of_year</th>\n",
              "      <th>month</th>\n",
              "      <th>open</th>\n",
              "      <th>high</th>\n",
              "      <th>low</th>\n",
              "      <th>close_change</th>\n",
              "      <th>close</th>\n",
              "    </tr>\n",
              "  </thead>\n",
              "  <tbody>\n",
              "    <tr>\n",
              "      <th>0</th>\n",
              "      <td>4</td>\n",
              "      <td>11</td>\n",
              "      <td>37</td>\n",
              "      <td>9</td>\n",
              "      <td>10317.00</td>\n",
              "      <td>10317.01</td>\n",
              "      <td>10314.36</td>\n",
              "      <td>0.00</td>\n",
              "      <td>10316.00</td>\n",
              "    </tr>\n",
              "    <tr>\n",
              "      <th>1</th>\n",
              "      <td>4</td>\n",
              "      <td>11</td>\n",
              "      <td>37</td>\n",
              "      <td>9</td>\n",
              "      <td>10316.00</td>\n",
              "      <td>10321.09</td>\n",
              "      <td>10316.00</td>\n",
              "      <td>3.50</td>\n",
              "      <td>10319.50</td>\n",
              "    </tr>\n",
              "    <tr>\n",
              "      <th>2</th>\n",
              "      <td>4</td>\n",
              "      <td>11</td>\n",
              "      <td>37</td>\n",
              "      <td>9</td>\n",
              "      <td>10319.50</td>\n",
              "      <td>10320.31</td>\n",
              "      <td>10318.49</td>\n",
              "      <td>-0.16</td>\n",
              "      <td>10319.34</td>\n",
              "    </tr>\n",
              "    <tr>\n",
              "      <th>3</th>\n",
              "      <td>4</td>\n",
              "      <td>11</td>\n",
              "      <td>37</td>\n",
              "      <td>9</td>\n",
              "      <td>10319.34</td>\n",
              "      <td>10320.14</td>\n",
              "      <td>10318.89</td>\n",
              "      <td>-0.34</td>\n",
              "      <td>10319.00</td>\n",
              "    </tr>\n",
              "    <tr>\n",
              "      <th>4</th>\n",
              "      <td>4</td>\n",
              "      <td>11</td>\n",
              "      <td>37</td>\n",
              "      <td>9</td>\n",
              "      <td>10318.99</td>\n",
              "      <td>10319.72</td>\n",
              "      <td>10316.58</td>\n",
              "      <td>0.47</td>\n",
              "      <td>10319.47</td>\n",
              "    </tr>\n",
              "  </tbody>\n",
              "</table>\n",
              "</div>"
            ],
            "text/plain": [
              "   day_of_week  day_of_month  week_of_year  ...       low  close_change     close\n",
              "0            4            11            37  ...  10314.36          0.00  10316.00\n",
              "1            4            11            37  ...  10316.00          3.50  10319.50\n",
              "2            4            11            37  ...  10318.49         -0.16  10319.34\n",
              "3            4            11            37  ...  10318.89         -0.34  10319.00\n",
              "4            4            11            37  ...  10316.58          0.47  10319.47\n",
              "\n",
              "[5 rows x 9 columns]"
            ]
          },
          "metadata": {},
          "execution_count": 16
        }
      ]
    },
    {
      "cell_type": "code",
      "metadata": {
        "colab": {
          "base_uri": "https://localhost:8080/"
        },
        "id": "Hl2ryVTzbA2E",
        "outputId": "1ec1ab64-74e8-4d90-bef2-29a4ac9565c5"
      },
      "source": [
        "train_size = int(len(features_df)*0.9)\n",
        "train_size"
      ],
      "execution_count": 17,
      "outputs": [
        {
          "output_type": "execute_result",
          "data": {
            "text/plain": [
              "245959"
            ]
          },
          "metadata": {},
          "execution_count": 17
        }
      ]
    },
    {
      "cell_type": "code",
      "metadata": {
        "colab": {
          "base_uri": "https://localhost:8080/"
        },
        "id": "B1BV4tY_bAxV",
        "outputId": "5f4d15e1-8a2c-4b55-f1e9-b1aaea10ccfc"
      },
      "source": [
        "train_df, test_df = features_df[:train_size], features_df[train_size+1:]\n",
        "train_df.shape, test_df.shape"
      ],
      "execution_count": 18,
      "outputs": [
        {
          "output_type": "execute_result",
          "data": {
            "text/plain": [
              "((245959, 9), (27328, 9))"
            ]
          },
          "metadata": {},
          "execution_count": 18
        }
      ]
    },
    {
      "cell_type": "code",
      "metadata": {
        "id": "hmMmVlT8bAsl"
      },
      "source": [
        "scalar = MinMaxScaler(feature_range=(-1,1))\n",
        "scalar = scalar.fit(train_df)"
      ],
      "execution_count": 19,
      "outputs": []
    },
    {
      "cell_type": "code",
      "metadata": {
        "id": "bNt5E0en2t9E"
      },
      "source": [
        "train_df = pd.DataFrame(\n",
        "    scalar.transform(train_df),\n",
        "    index=train_df.index,\n",
        "    columns=train_df.columns,\n",
        ")\n",
        "test_df = pd.DataFrame(\n",
        "    scalar.transform(test_df),\n",
        "    index=test_df.index,\n",
        "    columns=test_df.columns,\n",
        ")"
      ],
      "execution_count": 23,
      "outputs": []
    },
    {
      "cell_type": "code",
      "metadata": {
        "colab": {
          "base_uri": "https://localhost:8080/",
          "height": 221
        },
        "id": "AQyHzV-_3OGU",
        "outputId": "5c70f64b-832b-43be-a713-9034b56c11bc"
      },
      "source": [
        "train_df.head()"
      ],
      "execution_count": 24,
      "outputs": [
        {
          "output_type": "execute_result",
          "data": {
            "text/html": [
              "<div>\n",
              "<style scoped>\n",
              "    .dataframe tbody tr th:only-of-type {\n",
              "        vertical-align: middle;\n",
              "    }\n",
              "\n",
              "    .dataframe tbody tr th {\n",
              "        vertical-align: top;\n",
              "    }\n",
              "\n",
              "    .dataframe thead th {\n",
              "        text-align: right;\n",
              "    }\n",
              "</style>\n",
              "<table border=\"1\" class=\"dataframe\">\n",
              "  <thead>\n",
              "    <tr style=\"text-align: right;\">\n",
              "      <th></th>\n",
              "      <th>day_of_week</th>\n",
              "      <th>day_of_month</th>\n",
              "      <th>week_of_year</th>\n",
              "      <th>month</th>\n",
              "      <th>open</th>\n",
              "      <th>high</th>\n",
              "      <th>low</th>\n",
              "      <th>close_change</th>\n",
              "      <th>close</th>\n",
              "    </tr>\n",
              "  </thead>\n",
              "  <tbody>\n",
              "    <tr>\n",
              "      <th>0</th>\n",
              "      <td>0.333333</td>\n",
              "      <td>-0.333333</td>\n",
              "      <td>0.384615</td>\n",
              "      <td>0.454545</td>\n",
              "      <td>-0.993056</td>\n",
              "      <td>-0.993463</td>\n",
              "      <td>-0.992628</td>\n",
              "      <td>0.242895</td>\n",
              "      <td>-0.993097</td>\n",
              "    </tr>\n",
              "    <tr>\n",
              "      <th>1</th>\n",
              "      <td>0.333333</td>\n",
              "      <td>-0.333333</td>\n",
              "      <td>0.384615</td>\n",
              "      <td>0.454545</td>\n",
              "      <td>-0.993097</td>\n",
              "      <td>-0.993294</td>\n",
              "      <td>-0.992559</td>\n",
              "      <td>0.244938</td>\n",
              "      <td>-0.992952</td>\n",
              "    </tr>\n",
              "    <tr>\n",
              "      <th>2</th>\n",
              "      <td>0.333333</td>\n",
              "      <td>-0.333333</td>\n",
              "      <td>0.384615</td>\n",
              "      <td>0.454545</td>\n",
              "      <td>-0.992952</td>\n",
              "      <td>-0.993326</td>\n",
              "      <td>-0.992456</td>\n",
              "      <td>0.242802</td>\n",
              "      <td>-0.992959</td>\n",
              "    </tr>\n",
              "    <tr>\n",
              "      <th>3</th>\n",
              "      <td>0.333333</td>\n",
              "      <td>-0.333333</td>\n",
              "      <td>0.384615</td>\n",
              "      <td>0.454545</td>\n",
              "      <td>-0.992959</td>\n",
              "      <td>-0.993333</td>\n",
              "      <td>-0.992439</td>\n",
              "      <td>0.242697</td>\n",
              "      <td>-0.992973</td>\n",
              "    </tr>\n",
              "    <tr>\n",
              "      <th>4</th>\n",
              "      <td>0.333333</td>\n",
              "      <td>-0.333333</td>\n",
              "      <td>0.384615</td>\n",
              "      <td>0.454545</td>\n",
              "      <td>-0.992973</td>\n",
              "      <td>-0.993351</td>\n",
              "      <td>-0.992535</td>\n",
              "      <td>0.243169</td>\n",
              "      <td>-0.992953</td>\n",
              "    </tr>\n",
              "  </tbody>\n",
              "</table>\n",
              "</div>"
            ],
            "text/plain": [
              "   day_of_week  day_of_month  week_of_year  ...       low  close_change     close\n",
              "0     0.333333     -0.333333      0.384615  ... -0.992628      0.242895 -0.993097\n",
              "1     0.333333     -0.333333      0.384615  ... -0.992559      0.244938 -0.992952\n",
              "2     0.333333     -0.333333      0.384615  ... -0.992456      0.242802 -0.992959\n",
              "3     0.333333     -0.333333      0.384615  ... -0.992439      0.242697 -0.992973\n",
              "4     0.333333     -0.333333      0.384615  ... -0.992535      0.243169 -0.992953\n",
              "\n",
              "[5 rows x 9 columns]"
            ]
          },
          "metadata": {},
          "execution_count": 24
        }
      ]
    },
    {
      "cell_type": "code",
      "metadata": {
        "id": "nNn0akV93RjV"
      },
      "source": [
        ""
      ],
      "execution_count": null,
      "outputs": []
    }
  ]
}