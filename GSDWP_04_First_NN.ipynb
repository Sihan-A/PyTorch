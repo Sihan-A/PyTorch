{
  "nbformat": 4,
  "nbformat_minor": 0,
  "metadata": {
    "colab": {
      "name": "GSDWP_04_First_NN.ipynb",
      "provenance": [],
      "authorship_tag": "ABX9TyO48CTctrtplwpg0ObpZo8T",
      "include_colab_link": true
    },
    "kernelspec": {
      "name": "python3",
      "display_name": "Python 3"
    },
    "language_info": {
      "name": "python"
    },
    "accelerator": "GPU"
  },
  "cells": [
    {
      "cell_type": "markdown",
      "metadata": {
        "id": "view-in-github",
        "colab_type": "text"
      },
      "source": [
        "<a href=\"https://colab.research.google.com/github/Sihan-A/PyTorch_Learning_Notebook/blob/main/GSDWP_04_First_NN.ipynb\" target=\"_parent\"><img src=\"https://colab.research.google.com/assets/colab-badge.svg\" alt=\"Open In Colab\"/></a>"
      ]
    },
    {
      "cell_type": "markdown",
      "metadata": {
        "id": "4h6G6pkrmGxv"
      },
      "source": [
        "`Runtime` -> `Change runtime type` -> `GPU`"
      ]
    },
    {
      "cell_type": "markdown",
      "metadata": {
        "id": "eg5PPI7ImenO"
      },
      "source": [
        "# 2 First Neural Network with PyTorch"
      ]
    },
    {
      "cell_type": "code",
      "metadata": {
        "id": "jsC6fb2Kl-Hm"
      },
      "source": [
        ""
      ],
      "execution_count": null,
      "outputs": []
    }
  ]
}