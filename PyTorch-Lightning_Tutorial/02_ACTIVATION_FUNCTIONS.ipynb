{
  "nbformat": 4,
  "nbformat_minor": 0,
  "metadata": {
    "colab": {
      "name": "02_ACTIVATION_FUNCTIONS.ipynb",
      "provenance": [],
      "authorship_tag": "ABX9TyNZkQis0fy9eNWhhzu6tbVv",
      "include_colab_link": true
    },
    "kernelspec": {
      "name": "python3",
      "display_name": "Python 3"
    },
    "language_info": {
      "name": "python"
    },
    "accelerator": "GPU"
  },
  "cells": [
    {
      "cell_type": "markdown",
      "metadata": {
        "id": "view-in-github",
        "colab_type": "text"
      },
      "source": [
        "<a href=\"https://colab.research.google.com/github/Sihan-A/PyTorch/blob/main/PyTorch-Lightning_Tutorial/02_ACTIVATION_FUNCTIONS.ipynb\" target=\"_parent\"><img src=\"https://colab.research.google.com/assets/colab-badge.svg\" alt=\"Open In Colab\"/></a>"
      ]
    },
    {
      "cell_type": "markdown",
      "metadata": {
        "id": "BRA7Fhjhu5JN"
      },
      "source": [
        "# TUTORIAL 2: ACTIVATION FUNCTIONS"
      ]
    },
    {
      "cell_type": "code",
      "metadata": {
        "colab": {
          "base_uri": "https://localhost:8080/"
        },
        "id": "4NXUVvdtvGpJ",
        "outputId": "c460456a-dba2-4821-9462-e88a8575d5fe"
      },
      "source": [
        "!pip install --quiet torchmetrics\n",
        "!pip install --quiet pytorch-lightning"
      ],
      "execution_count": 2,
      "outputs": [
        {
          "output_type": "stream",
          "name": "stdout",
          "text": [
            "\u001b[?25l\r\u001b[K     |█▏                              | 10 kB 21.0 MB/s eta 0:00:01\r\u001b[K     |██▎                             | 20 kB 25.9 MB/s eta 0:00:01\r\u001b[K     |███▌                            | 30 kB 12.8 MB/s eta 0:00:01\r\u001b[K     |████▋                           | 40 kB 9.5 MB/s eta 0:00:01\r\u001b[K     |█████▉                          | 51 kB 7.4 MB/s eta 0:00:01\r\u001b[K     |███████                         | 61 kB 7.8 MB/s eta 0:00:01\r\u001b[K     |████████                        | 71 kB 6.6 MB/s eta 0:00:01\r\u001b[K     |█████████▎                      | 81 kB 7.3 MB/s eta 0:00:01\r\u001b[K     |██████████▍                     | 92 kB 6.7 MB/s eta 0:00:01\r\u001b[K     |███████████▋                    | 102 kB 7.1 MB/s eta 0:00:01\r\u001b[K     |████████████▊                   | 112 kB 7.1 MB/s eta 0:00:01\r\u001b[K     |██████████████                  | 122 kB 7.1 MB/s eta 0:00:01\r\u001b[K     |███████████████                 | 133 kB 7.1 MB/s eta 0:00:01\r\u001b[K     |████████████████▏               | 143 kB 7.1 MB/s eta 0:00:01\r\u001b[K     |█████████████████▍              | 153 kB 7.1 MB/s eta 0:00:01\r\u001b[K     |██████████████████▌             | 163 kB 7.1 MB/s eta 0:00:01\r\u001b[K     |███████████████████▊            | 174 kB 7.1 MB/s eta 0:00:01\r\u001b[K     |████████████████████▉           | 184 kB 7.1 MB/s eta 0:00:01\r\u001b[K     |██████████████████████          | 194 kB 7.1 MB/s eta 0:00:01\r\u001b[K     |███████████████████████▏        | 204 kB 7.1 MB/s eta 0:00:01\r\u001b[K     |████████████████████████▎       | 215 kB 7.1 MB/s eta 0:00:01\r\u001b[K     |█████████████████████████▌      | 225 kB 7.1 MB/s eta 0:00:01\r\u001b[K     |██████████████████████████▋     | 235 kB 7.1 MB/s eta 0:00:01\r\u001b[K     |███████████████████████████▉    | 245 kB 7.1 MB/s eta 0:00:01\r\u001b[K     |█████████████████████████████   | 256 kB 7.1 MB/s eta 0:00:01\r\u001b[K     |██████████████████████████████  | 266 kB 7.1 MB/s eta 0:00:01\r\u001b[K     |███████████████████████████████▎| 276 kB 7.1 MB/s eta 0:00:01\r\u001b[K     |████████████████████████████████| 282 kB 7.1 MB/s \n",
            "\u001b[?25h"
          ]
        }
      ]
    },
    {
      "cell_type": "code",
      "metadata": {
        "id": "UzKFvXhju-Gh"
      },
      "source": [
        "import json\n",
        "import math\n",
        "import os\n",
        "import urllib.request\n",
        "import warnings\n",
        "from urllib.error import HTTPError\n",
        "import matplotlib.pyplot as plt\n",
        "import numpy as np\n",
        "import seaborn as sns\n",
        "import torch\n",
        "import torch.nn as nn\n",
        "import torch.nn.functional as F\n",
        "import torch.optim as optim\n",
        "import torch.utils.data as data\n",
        "import torchvision"
      ],
      "execution_count": 4,
      "outputs": []
    },
    {
      "cell_type": "code",
      "metadata": {
        "id": "S8szomscu-EA"
      },
      "source": [
        "# %matplotlib inline\n",
        "from IPython.display import set_matplotlib_formats\n",
        "from torchvision import transforms\n",
        "from torchvision.datasets import FashionMNIST\n",
        "from tqdm.notebook import tqdm\n",
        "set_matplotlib_formats(\"svg\", \"pdf\")  # For export\n",
        "sns.set()"
      ],
      "execution_count": 5,
      "outputs": []
    },
    {
      "cell_type": "code",
      "metadata": {
        "colab": {
          "base_uri": "https://localhost:8080/"
        },
        "id": "-yTLg3Nuu-Bj",
        "outputId": "6b7ce05a-959b-4a8b-d97d-0105d1831d3f"
      },
      "source": [
        "# Path to the folder where the datasets are/should be downloaded (e.g. MNIST)\n",
        "DATASET_PATH = os.environ.get(\"PATH_DATASETS\", \"data/\")\n",
        "# Path to the folder where the pretrained models are saved\n",
        "CHECKPOINT_PATH = os.environ.get(\"PATH_CHECKPOINT\", \"saved_models/Activation_Functions/\")\n",
        "\n",
        "\n",
        "# Function for setting the seed\n",
        "def set_seed(seed):\n",
        "    np.random.seed(seed)\n",
        "    torch.manual_seed(seed)\n",
        "    if torch.cuda.is_available():  # GPU operation have separate seed\n",
        "        torch.cuda.manual_seed(seed)\n",
        "        torch.cuda.manual_seed_all(seed)\n",
        "\n",
        "\n",
        "set_seed(42)\n",
        "\n",
        "# Additionally, some operations on a GPU are implemented stochastic for efficiency\n",
        "# We want to ensure that all operations are deterministic on GPU (if used) for reproducibility\n",
        "torch.backends.cudnn.determinstic = True\n",
        "torch.backends.cudnn.benchmark = False\n",
        "\n",
        "# Fetching the device that will be used throughout this notebook\n",
        "device = torch.device(\"cpu\") if not torch.cuda.is_available() else torch.device(\"cuda:0\")\n",
        "print(\"Using device\", device)"
      ],
      "execution_count": 6,
      "outputs": [
        {
          "output_type": "stream",
          "name": "stdout",
          "text": [
            "Using device cpu\n"
          ]
        }
      ]
    },
    {
      "cell_type": "code",
      "metadata": {
        "id": "tFxNFEjiu9-u"
      },
      "source": [
        ""
      ],
      "execution_count": null,
      "outputs": []
    }
  ]
}